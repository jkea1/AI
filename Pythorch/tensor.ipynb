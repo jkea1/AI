{
 "cells": [
  {
   "cell_type": "markdown",
   "metadata": {},
   "source": [
    "### Tensor\n",
    "텐서(Tensor)는 파이토치의 기본 단위이며 GPU 연산을 가능하게 한다. 또한 Numpy의 배열과 유사하여 손쉽게 다룰 수 있다."
   ]
  },
  {
   "cell_type": "markdown",
   "metadata": {},
   "source": [
    "1. 텐서 만들기\n",
    "\n",
    "PyTorch에서 모델 학습과 연산은 모두 텐서 기반으로 수행하기 때문에 torch.Tensor 객체로 변환해 주어야 한다.\n",
    "* 예를 들어, 리스트나 넘파이 배열은 연산/미분이 불가능하기 때문에, 텐서 객체로 변환해야 한다.\n",
    "* 이렇게 변환한 tensor는 .to('cuda') 등을 사용해서 GPU에서 빠르게 연산 가능하다.\n",
    "  * 하지만 cuda는 NVIDIA GPU에서만 작동하고, 맥북은 NVIDIA GPU를 사용하지 않기 때문에 .to('cuda') 사용이 불가하다.\n",
    "\n",
    "* 내 노트북인 **M2 Pro**인 경우 일반 NVIDIA GPU가 아닌 Metal backend인 MPS(Metal Performance Shader = Apple GPU)으르 가지고 있기 때문에 'cuda' 사용이 불가하다.\n",
    "  * 일반 설치 방법인 `pip install torch`가 아닌, Metal을 지원하는 [PyTorch nightly](https://pytorch.org/get-started/locally/#macos-arm64) 버전을 설치해줘야 한다. `conda install pytorch torchvision torchaudio -c pytorch-nightly`\n",
    "  * 그리고 코드가 MPS로 돌아가게 하기 위해서 아래의 코드를 추가해 줘야 한다.\n",
    "    ```\n",
    "    device = torch.device(\"mps\" if torch.backends.mps.is_available() else \"cpu\")\n",
    "    tensor = torch.tensor([1.0, 2.0, 3.0]).to(device)\n",
    "    ```\n",
    "  * 하지만 아직 모든 Pytorch 기능이 MPS에서 100% 지원되는 것은 아니다. Google Colab(무료 GPU)이나 AWS도 좋은 선택이다."
   ]
  },
  {
   "cell_type": "code",
   "execution_count": 16,
   "metadata": {},
   "outputs": [
    {
     "name": "stdout",
     "output_type": "stream",
     "text": [
      "Requirement already satisfied: torch in /opt/anaconda3/lib/python3.12/site-packages (2.6.0)\n",
      "Requirement already satisfied: filelock in /opt/anaconda3/lib/python3.12/site-packages (from torch) (3.13.1)\n",
      "Requirement already satisfied: typing-extensions>=4.10.0 in /opt/anaconda3/lib/python3.12/site-packages (from torch) (4.11.0)\n",
      "Requirement already satisfied: networkx in /opt/anaconda3/lib/python3.12/site-packages (from torch) (3.3)\n",
      "Requirement already satisfied: jinja2 in /opt/anaconda3/lib/python3.12/site-packages (from torch) (3.1.4)\n",
      "Requirement already satisfied: fsspec in /opt/anaconda3/lib/python3.12/site-packages (from torch) (2024.6.1)\n",
      "Requirement already satisfied: setuptools in /opt/anaconda3/lib/python3.12/site-packages (from torch) (75.1.0)\n",
      "Requirement already satisfied: sympy==1.13.1 in /opt/anaconda3/lib/python3.12/site-packages (from torch) (1.13.1)\n",
      "Requirement already satisfied: mpmath<1.4,>=1.1.0 in /opt/anaconda3/lib/python3.12/site-packages (from sympy==1.13.1->torch) (1.3.0)\n",
      "Requirement already satisfied: MarkupSafe>=2.0 in /opt/anaconda3/lib/python3.12/site-packages (from jinja2->torch) (2.1.3)\n",
      "Note: you may need to restart the kernel to use updated packages.\n",
      "Requirement already satisfied: numpy in /opt/anaconda3/lib/python3.12/site-packages (1.26.4)\n",
      "Note: you may need to restart the kernel to use updated packages.\n"
     ]
    }
   ],
   "source": [
    "%pip install torch\n",
    "%pip install numpy"
   ]
  },
  {
   "cell_type": "code",
   "execution_count": 17,
   "metadata": {},
   "outputs": [],
   "source": [
    "import torch # Pytorch를 사용하기 위한 기본 라이브러리이다.\n",
    "import numpy as np"
   ]
  },
  {
   "cell_type": "code",
   "execution_count": 18,
   "metadata": {},
   "outputs": [
    {
     "name": "stdout",
     "output_type": "stream",
     "text": [
      "tensor([[0., 0., 0., 0.],\n",
      "        [0., 0., 0., 0.],\n",
      "        [0., 0., 0., 0.],\n",
      "        [0., 0., 0., 0.],\n",
      "        [0., 0., 0., 0.]])\n"
     ]
    }
   ],
   "source": [
    "# 빈 텐서 생성\n",
    "x = torch.empty(5, 4) # 5x4 행렬 생성\n",
    "print(x) # 초기화되지 않은 행렬인 경우 해당 시점에 할당된 메모리에 존재하던 값들이 초기값으로 나타난다."
   ]
  },
  {
   "cell_type": "code",
   "execution_count": 19,
   "metadata": {},
   "outputs": [
    {
     "data": {
      "text/plain": [
       "tensor([[1., 1., 1.],\n",
       "        [1., 1., 1.],\n",
       "        [1., 1., 1.]])"
      ]
     },
     "execution_count": 19,
     "metadata": {},
     "output_type": "execute_result"
    }
   ],
   "source": [
    "torch.ones(3, 3) # 3x3 행렬을 생성하고 모든 원소를 1로 초기화한다."
   ]
  },
  {
   "cell_type": "code",
   "execution_count": 20,
   "metadata": {},
   "outputs": [
    {
     "data": {
      "text/plain": [
       "tensor([[0., 0., 0.],\n",
       "        [0., 0., 0.],\n",
       "        [0., 0., 0.]])"
      ]
     },
     "execution_count": 20,
     "metadata": {},
     "output_type": "execute_result"
    }
   ],
   "source": [
    "torch.zeros(3, 3) # 3x3 행렬을 생성하고 모든 원소를 0으로 초기화한다."
   ]
  },
  {
   "cell_type": "code",
   "execution_count": 21,
   "metadata": {},
   "outputs": [
    {
     "data": {
      "text/plain": [
       "tensor([[0.5913, 0.8495, 0.2228, 0.4009, 0.1759, 0.5141],\n",
       "        [0.6833, 0.9884, 0.2234, 0.6081, 0.1964, 0.8496],\n",
       "        [0.0548, 0.5911, 0.4214, 0.7609, 0.0557, 0.4055],\n",
       "        [0.9672, 0.6127, 0.0771, 0.6036, 0.2049, 0.7959],\n",
       "        [0.3616, 0.1079, 0.9352, 0.0878, 0.8146, 0.4359]])"
      ]
     },
     "execution_count": 21,
     "metadata": {},
     "output_type": "execute_result"
    }
   ],
   "source": [
    "torch.rand(5, 6) # 5x6 행렬을 생성하고 모든 원소를 랜덤한 값으로 초기화한다."
   ]
  },
  {
   "cell_type": "markdown",
   "metadata": {},
   "source": [
    "2. 리스트, 넘파이 배열을 텐서로 만들기"
   ]
  },
  {
   "cell_type": "code",
   "execution_count": 22,
   "metadata": {},
   "outputs": [],
   "source": [
    "l = [13, 4] # 리스트 생성\n",
    "r = np.array([4, 56, 7]) # 넘파이 배열 생성"
   ]
  },
  {
   "cell_type": "code",
   "execution_count": 23,
   "metadata": {},
   "outputs": [
    {
     "data": {
      "text/plain": [
       "tensor([13,  4])"
      ]
     },
     "execution_count": 23,
     "metadata": {},
     "output_type": "execute_result"
    }
   ],
   "source": [
    "torch.tensor(l) # 리스트를 텐서로 변환"
   ]
  },
  {
   "cell_type": "code",
   "execution_count": 24,
   "metadata": {},
   "outputs": [
    {
     "data": {
      "text/plain": [
       "tensor([ 4, 56,  7])"
      ]
     },
     "execution_count": 24,
     "metadata": {},
     "output_type": "execute_result"
    }
   ],
   "source": [
    "torch.tensor(r) # 넘파이 배열을 텐서로 변환"
   ]
  },
  {
   "cell_type": "code",
   "execution_count": null,
   "metadata": {},
   "outputs": [
    {
     "data": {
      "text/plain": [
       "tensor([ 4., 56.,  7.])"
      ]
     },
     "execution_count": 25,
     "metadata": {},
     "output_type": "execute_result"
    }
   ],
   "source": [
    "torch.FloatTensor(r) # 실수형 텐서로 변환"
   ]
  },
  {
   "cell_type": "markdown",
   "metadata": {},
   "source": [
    "3. 텐서의 크기와 타입 확인하기"
   ]
  },
  {
   "cell_type": "code",
   "execution_count": 30,
   "metadata": {},
   "outputs": [
    {
     "data": {
      "text/plain": [
       "torch.Size([5, 4])"
      ]
     },
     "execution_count": 30,
     "metadata": {},
     "output_type": "execute_result"
    }
   ],
   "source": [
    "x.size() # 텐서의 크기를 확인하는 방법\n",
    "# x.size()[1] # 4"
   ]
  },
  {
   "cell_type": "code",
   "execution_count": 27,
   "metadata": {},
   "outputs": [
    {
     "data": {
      "text/plain": [
       "torch.Tensor"
      ]
     },
     "execution_count": 27,
     "metadata": {},
     "output_type": "execute_result"
    }
   ],
   "source": [
    "type(x)"
   ]
  },
  {
   "cell_type": "markdown",
   "metadata": {},
   "source": [
    "4. 텐서의 덧셈"
   ]
  },
  {
   "cell_type": "code",
   "execution_count": 32,
   "metadata": {},
   "outputs": [
    {
     "name": "stdout",
     "output_type": "stream",
     "text": [
      "tensor([[0.9133, 0.8487],\n",
      "        [0.0217, 0.5941]])\n",
      "tensor([[0.0250, 0.2033],\n",
      "        [0.4985, 0.6887]])\n"
     ]
    }
   ],
   "source": [
    "x = torch.rand(2, 2) # 2x2\n",
    "y = torch.rand(2, 2) # 2x2\n",
    "print(x)\n",
    "print(y)"
   ]
  },
  {
   "cell_type": "code",
   "execution_count": 33,
   "metadata": {},
   "outputs": [
    {
     "data": {
      "text/plain": [
       "tensor([[0.9383, 1.0520],\n",
       "        [0.5202, 1.2828]])"
      ]
     },
     "execution_count": 33,
     "metadata": {},
     "output_type": "execute_result"
    }
   ],
   "source": [
    "x + y # 텐서의 덧셈"
   ]
  },
  {
   "cell_type": "code",
   "execution_count": 34,
   "metadata": {},
   "outputs": [
    {
     "data": {
      "text/plain": [
       "tensor([[0.9383, 1.0520],\n",
       "        [0.5202, 1.2828]])"
      ]
     },
     "execution_count": 34,
     "metadata": {},
     "output_type": "execute_result"
    }
   ],
   "source": [
    "torch.add(x, y) # torch.add()를 사용한 덧셈"
   ]
  },
  {
   "cell_type": "code",
   "execution_count": 36,
   "metadata": {},
   "outputs": [
    {
     "data": {
      "text/plain": [
       "tensor([[0.9383, 1.0520],\n",
       "        [0.5202, 1.2828]])"
      ]
     },
     "execution_count": 36,
     "metadata": {},
     "output_type": "execute_result"
    }
   ],
   "source": [
    "y.add(x) # 두 텐서의 합의 또 다른 표현이지만 이는 y에 x를 더한다는 의미다."
   ]
  },
  {
   "cell_type": "code",
   "execution_count": null,
   "metadata": {},
   "outputs": [
    {
     "name": "stdout",
     "output_type": "stream",
     "text": [
      "원래 y:  tensor([[0.0250, 0.2033],\n",
      "        [0.4985, 0.6887]])\n",
      "y=y+x:  tensor([[0.9383, 1.0520],\n",
      "        [0.5202, 1.2828]])\n"
     ]
    }
   ],
   "source": [
    "print(\"원래 y: \", y)\n",
    "y.add_(x) # y에 x를 더한 후 y에 저장한다.\n",
    "\n",
    "print(\"y=y+x: \", y) # y.add_는 y에 x를 더한 값을 y에 대체한다. (inplace 방식)"
   ]
  },
  {
   "cell_type": "markdown",
   "metadata": {},
   "source": [
    "5. 텐서의 크기 변환하기"
   ]
  },
  {
   "cell_type": "code",
   "execution_count": 38,
   "metadata": {},
   "outputs": [
    {
     "name": "stdout",
     "output_type": "stream",
     "text": [
      "torch.Size([8, 8])\n"
     ]
    }
   ],
   "source": [
    "x = torch.rand(8, 8) # 8x8\n",
    "print(x.size()) "
   ]
  },
  {
   "cell_type": "code",
   "execution_count": 39,
   "metadata": {},
   "outputs": [
    {
     "name": "stdout",
     "output_type": "stream",
     "text": [
      "torch.Size([64])\n"
     ]
    }
   ],
   "source": [
    "a = x.view(64) # 크기를 바꿔주는 view 8*8(행렬) -> 64(1차원 벡터)\n",
    "print(a.size()) "
   ]
  },
  {
   "cell_type": "code",
   "execution_count": null,
   "metadata": {},
   "outputs": [
    {
     "name": "stdout",
     "output_type": "stream",
     "text": [
      "torch.Size([4, 4, 4])\n"
     ]
    }
   ],
   "source": [
    "# -1은 원래 크기가 되게 하는 값\n",
    "# 원래는 -1 위치에 4가 들어가는게 맞는데 -1을 넣으면 자동으로 계산되어 4가 들어가게 된다. -1은 한번 밖에 사용 못한다.\n",
    "# 8x8(64) -> 4x4x4(64)\n",
    "b = x.view(-1, 4, 4) \n",
    "print(b.size()) # 4x4x4"
   ]
  },
  {
   "cell_type": "markdown",
   "metadata": {},
   "source": [
    "6. 텐서에서 넘파이로 만들기"
   ]
  },
  {
   "cell_type": "code",
   "execution_count": 43,
   "metadata": {},
   "outputs": [
    {
     "name": "stdout",
     "output_type": "stream",
     "text": [
      "[[0.43252575 0.6920703  0.07739574 0.831251   0.0522148  0.37973505\n",
      "  0.64793235 0.9531009 ]\n",
      " [0.03008229 0.92926294 0.11123085 0.93049246 0.76308113 0.9754637\n",
      "  0.36660695 0.05856687]\n",
      " [0.775738   0.6983376  0.27533758 0.0358941  0.34590054 0.9921308\n",
      "  0.08021611 0.56548035]\n",
      " [0.1393727  0.26979315 0.83859646 0.9046985  0.07144886 0.60760427\n",
      "  0.26895726 0.7366213 ]\n",
      " [0.6463927  0.6224601  0.07077765 0.98919064 0.05555409 0.13882321\n",
      "  0.08678496 0.00804847]\n",
      " [0.5090243  0.07360029 0.48290372 0.30433744 0.70840675 0.84893864\n",
      "  0.962731   0.2626285 ]\n",
      " [0.99328846 0.49464917 0.26876724 0.50858337 0.1328283  0.747576\n",
      "  0.4576792  0.31577492]\n",
      " [0.472506   0.7664223  0.4810465  0.65746343 0.85337037 0.3127823\n",
      "  0.9761925  0.3446116 ]]\n"
     ]
    }
   ],
   "source": [
    "x = torch.rand(8, 8) \n",
    "y = x.numpy() # 넘파이 배열로 변환\n",
    "print(y)"
   ]
  },
  {
   "cell_type": "code",
   "execution_count": 44,
   "metadata": {},
   "outputs": [
    {
     "data": {
      "text/plain": [
       "numpy.ndarray"
      ]
     },
     "execution_count": 44,
     "metadata": {},
     "output_type": "execute_result"
    }
   ],
   "source": [
    "type(y)"
   ]
  },
  {
   "cell_type": "markdown",
   "metadata": {},
   "source": [
    "7. 단일 텐서에서 값으로 뽑아내기"
   ]
  },
  {
   "cell_type": "code",
   "execution_count": 53,
   "metadata": {},
   "outputs": [],
   "source": [
    "loss = torch.ones(1) "
   ]
  },
  {
   "cell_type": "code",
   "execution_count": 55,
   "metadata": {},
   "outputs": [
    {
     "name": "stdout",
     "output_type": "stream",
     "text": [
      "1.0\n"
     ]
    }
   ],
   "source": [
    "# print(loss) # 텐서 값이 그대로 출력된다.\n",
    "print(loss.item()) # 텐서의 값을 가져오는 방법"
   ]
  }
 ],
 "metadata": {
  "kernelspec": {
   "display_name": "base",
   "language": "python",
   "name": "python3"
  },
  "language_info": {
   "codemirror_mode": {
    "name": "ipython",
    "version": 3
   },
   "file_extension": ".py",
   "mimetype": "text/x-python",
   "name": "python",
   "nbconvert_exporter": "python",
   "pygments_lexer": "ipython3",
   "version": "3.12.7"
  }
 },
 "nbformat": 4,
 "nbformat_minor": 2
}
