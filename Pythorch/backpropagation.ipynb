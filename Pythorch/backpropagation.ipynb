{
 "cells": [
  {
   "cell_type": "markdown",
   "metadata": {},
   "source": [
    "### 연전파\n",
    "인공 신경망을 최적화 하는 과정에서 미분은 필수적인 요소인데 파이토치는 최적화 과정인 역전파(backpropagation)를 쉽게 할 수 있도록 자동 미분 계산을 제공한다.\n",
    "\n",
    "인공 신경망에서 최적화 할 때에는 손실함수를 정의해 두고, 손실함수가 최소가 되는 모델 파라미터를 찾는 것이 최적화 과정이다. 미분을 이용해서 최대/최소를 구할 수 있다."
   ]
  },
  {
   "cell_type": "markdown",
   "metadata": {},
   "source": [
    "1. 자동 미분 준비하기"
   ]
  },
  {
   "cell_type": "code",
   "execution_count": 4,
   "metadata": {},
   "outputs": [
    {
     "name": "stdout",
     "output_type": "stream",
     "text": [
      "Requirement already satisfied: torch in /opt/anaconda3/lib/python3.12/site-packages (2.6.0)\n",
      "Requirement already satisfied: filelock in /opt/anaconda3/lib/python3.12/site-packages (from torch) (3.13.1)\n",
      "Requirement already satisfied: typing-extensions>=4.10.0 in /opt/anaconda3/lib/python3.12/site-packages (from torch) (4.11.0)\n",
      "Requirement already satisfied: networkx in /opt/anaconda3/lib/python3.12/site-packages (from torch) (3.3)\n",
      "Requirement already satisfied: jinja2 in /opt/anaconda3/lib/python3.12/site-packages (from torch) (3.1.4)\n",
      "Requirement already satisfied: fsspec in /opt/anaconda3/lib/python3.12/site-packages (from torch) (2024.6.1)\n",
      "Requirement already satisfied: setuptools in /opt/anaconda3/lib/python3.12/site-packages (from torch) (75.1.0)\n",
      "Requirement already satisfied: sympy==1.13.1 in /opt/anaconda3/lib/python3.12/site-packages (from torch) (1.13.1)\n",
      "Requirement already satisfied: mpmath<1.4,>=1.1.0 in /opt/anaconda3/lib/python3.12/site-packages (from sympy==1.13.1->torch) (1.3.0)\n",
      "Requirement already satisfied: MarkupSafe>=2.0 in /opt/anaconda3/lib/python3.12/site-packages (from jinja2->torch) (2.1.3)\n",
      "Note: you may need to restart the kernel to use updated packages.\n"
     ]
    }
   ],
   "source": [
    "%pip install torch"
   ]
  },
  {
   "cell_type": "code",
   "execution_count": 5,
   "metadata": {},
   "outputs": [],
   "source": [
    "import torch"
   ]
  },
  {
   "cell_type": "code",
   "execution_count": null,
   "metadata": {},
   "outputs": [
    {
     "name": "stdout",
     "output_type": "stream",
     "text": [
      "tensor([[1., 1.],\n",
      "        [1., 1.]], requires_grad=True)\n"
     ]
    }
   ],
   "source": [
    "# requires_grad=True\n",
    "# 해당 텐서를 기준으로 모든 연산들을 추적할 수 있게 하는 옵션이다.\n",
    "# 즉, x에 대해서 연쇄 법칙을 이용한 미분이 가능하다는 것이다.\n",
    "x = torch.ones(2,2, requires_grad=True)\n",
    "print(x)"
   ]
  },
  {
   "cell_type": "code",
   "execution_count": null,
   "metadata": {},
   "outputs": [
    {
     "name": "stdout",
     "output_type": "stream",
     "text": [
      "y:  tensor([[2., 2.],\n",
      "        [2., 2.]], grad_fn=<AddBackward0>)\n",
      "z:  tensor([[8., 8.],\n",
      "        [8., 8.]], grad_fn=<MulBackward0>)\n",
      "Result:  tensor(8., grad_fn=<MeanBackward0>)\n"
     ]
    }
   ],
   "source": [
    "# y는 x에 대한 식, z는 y에 대한 식이다.\n",
    "# 따라서 이는 합성함수의 개념으로써 x에 대해서 표현 및 미분이 가능하다.\n",
    "y = x + 1\n",
    "z = 2*y**2 # convex 한 형태\n",
    "res = z.mean() # convex 한 형태\n",
    "\n",
    "print(\"y: \", y)\n",
    "print(\"z: \", z)\n",
    "print(\"Result: \", res)"
   ]
  },
  {
   "cell_type": "markdown",
   "metadata": {},
   "source": [
    "2. 역전파\n",
    "\n",
    "어떤 기준으로 역전파를 할 지를 결정하는 것이 중요하다."
   ]
  },
  {
   "cell_type": "code",
   "execution_count": null,
   "metadata": {},
   "outputs": [],
   "source": []
  },
  {
   "cell_type": "code",
   "execution_count": null,
   "metadata": {},
   "outputs": [],
   "source": [
    "res.backward() # res를 기준으로 역전파를 진행하겠다는 의미이다. \n",
    "\n",
    "# 역으로 식을 써내려 가보면\n",
    "# res = (z_1 + ... + z_4) / 4 -> 평균\n",
    "# z_i = 2 y_i ** 2\n",
    "# z_i = 2 (x_i + 1) ** 2\n",
    "# d(res)/dx_i = x_i + 1 -> x에 대해서 미분을 하는 것이다."
   ]
  },
  {
   "cell_type": "code",
   "execution_count": 9,
   "metadata": {},
   "outputs": [
    {
     "name": "stdout",
     "output_type": "stream",
     "text": [
      "tensor([[1., 1.],\n",
      "        [1., 1.]], requires_grad=True)\n",
      "tensor([[2., 2.],\n",
      "        [2., 2.]])\n"
     ]
    }
   ],
   "source": [
    "print(x)\n",
    "print(x.grad)\n",
    "# x.grad는 backward()가 선언 된 변수x를 기준으로 미분한다. = d(res)/dx\n",
    "# 즉, x에 대해서 역전파를 진행한 결과를 보여준다.\n",
    "# d(res)/dx_i = x_i + 1  "
   ]
  },
  {
   "cell_type": "markdown",
   "metadata": {},
   "source": [
    "정리"
   ]
  },
  {
   "cell_type": "markdown",
   "metadata": {},
   "source": [
    "\\begin{equation}\n",
    "  x \\Rightarrow y = x+1 \\Rightarrow z = 2y^2 \\Rightarrow L(z)=\\frac{\\sum_{j=1}^{n}{z_{j}}}{n} \\notag\n",
    "\\end{equation}\n",
    "\n",
    "\\begin{equation}\n",
    "  \\frac{\\partial L}{\\partial x_{i}} = \\frac{\\partial L}{\\partial z_{i}}\\cdot\\frac{\\partial z_{i}}{\\partial y_{i}}\\cdot \\frac{\\partial y_{i}}{\\partial x_{i}} = \\frac{1}{n}\\cdot 4y_{i}\\cdot 1 = \\frac{4}{n}y_{i} = y_{i} = x_{i}+1 \\tag{2}\n",
    "\\end{equation}\n",
    "since $n=4$.\n",
    "\n",
    "\\begin{equation}\n",
    "  \\begin{pmatrix}\n",
    "    1 & 1 \\\\\n",
    "    1 & 1\n",
    "  \\end{pmatrix} \\Rightarrow\n",
    "  \\begin{pmatrix}\n",
    "    2\\text{ }(=x_{1}+1) & 2\\text{ }(=x_{2}+1) \\\\\n",
    "    2\\text{ }(=x_{3}+1) & 2\\text{ }(=x_{4}+1)\n",
    "  \\end{pmatrix} \\notag\n",
    "\\end{equation}"
   ]
  },
  {
   "cell_type": "markdown",
   "metadata": {},
   "source": [
    "\\begin{equation}\n",
    "  z = 2y^{2} = 2(x+1)^{2} \\notag\n",
    "\\end{equation}\n",
    "\n",
    "\\begin{equation}\n",
    "  \\frac{\\partial L}{\\partial x_{i}} = \\frac{\\partial L}{\\partial z_{i}}\\cdot\\frac{\\partial z_{i}}{\\partial x_{i}} = \\frac{1}{n}\\cdot 4(x_{i}+1)\\cdot 1 = x_{i}+1 \\notag\n",
    "\\end{equation}\n",
    "\n",
    "\\begin{equation}\n",
    "  \\begin{pmatrix}\n",
    "    2 & 2 \\\\\n",
    "    2 & 2\n",
    "  \\end{pmatrix} \\notag\n",
    "\\end{equation}"
   ]
  }
 ],
 "metadata": {
  "kernelspec": {
   "display_name": "base",
   "language": "python",
   "name": "python3"
  },
  "language_info": {
   "codemirror_mode": {
    "name": "ipython",
    "version": 3
   },
   "file_extension": ".py",
   "mimetype": "text/x-python",
   "name": "python",
   "nbconvert_exporter": "python",
   "pygments_lexer": "ipython3",
   "version": "3.12.7"
  }
 },
 "nbformat": 4,
 "nbformat_minor": 2
}
