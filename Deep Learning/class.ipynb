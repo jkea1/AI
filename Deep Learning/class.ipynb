{
 "cells": [
  {
   "cell_type": "code",
   "execution_count": 4,
   "metadata": {},
   "outputs": [
    {
     "name": "stdout",
     "output_type": "stream",
     "text": [
      "Requirement already satisfied: numpy in /opt/anaconda3/lib/python3.12/site-packages (1.26.4)\n",
      "Note: you may need to restart the kernel to use updated packages.\n",
      "Requirement already satisfied: matplotlib in /opt/anaconda3/lib/python3.12/site-packages (3.9.2)\n",
      "Requirement already satisfied: contourpy>=1.0.1 in /opt/anaconda3/lib/python3.12/site-packages (from matplotlib) (1.2.0)\n",
      "Requirement already satisfied: cycler>=0.10 in /opt/anaconda3/lib/python3.12/site-packages (from matplotlib) (0.11.0)\n",
      "Requirement already satisfied: fonttools>=4.22.0 in /opt/anaconda3/lib/python3.12/site-packages (from matplotlib) (4.51.0)\n",
      "Requirement already satisfied: kiwisolver>=1.3.1 in /opt/anaconda3/lib/python3.12/site-packages (from matplotlib) (1.4.4)\n",
      "Requirement already satisfied: numpy>=1.23 in /opt/anaconda3/lib/python3.12/site-packages (from matplotlib) (1.26.4)\n",
      "Requirement already satisfied: packaging>=20.0 in /opt/anaconda3/lib/python3.12/site-packages (from matplotlib) (24.1)\n",
      "Requirement already satisfied: pillow>=8 in /opt/anaconda3/lib/python3.12/site-packages (from matplotlib) (10.4.0)\n",
      "Requirement already satisfied: pyparsing>=2.3.1 in /opt/anaconda3/lib/python3.12/site-packages (from matplotlib) (3.1.2)\n",
      "Requirement already satisfied: python-dateutil>=2.7 in /opt/anaconda3/lib/python3.12/site-packages (from matplotlib) (2.9.0.post0)\n",
      "Requirement already satisfied: six>=1.5 in /opt/anaconda3/lib/python3.12/site-packages (from python-dateutil>=2.7->matplotlib) (1.16.0)\n",
      "Note: you may need to restart the kernel to use updated packages.\n"
     ]
    }
   ],
   "source": [
    "%pip install numpy\n",
    "%pip install matplotlib"
   ]
  },
  {
   "cell_type": "markdown",
   "metadata": {},
   "source": [
    "### Class 클래스\n",
    "어떤 하나의 기능을 구현 하는데 여러 개의 함수가 필요할 때가 있다. 이 때, 데이터와 세부적인 기능을 수행하는 함수들을 묶어서 구현할 수 있는데 이 때 기본적으로 사용되는 것이 클래스이다. 클래스는 상속 등의 다양한 기능을 통해 프로그램의 복잡도를 감소시켜 주며 확장에 매우 유리하게 작용한다. 또한 중요 변수를 클래스에 넣어 외부의 변수들과 혼동 될 위험을 줄여준다.\n",
    "\n",
    "함수들의 모임이라고 생각하면 쉽다."
   ]
  },
  {
   "cell_type": "code",
   "execution_count": 5,
   "metadata": {},
   "outputs": [],
   "source": [
    "import numpy as np\n",
    "from matplotlib import pyplot as plt"
   ]
  },
  {
   "cell_type": "code",
   "execution_count": 8,
   "metadata": {},
   "outputs": [],
   "source": [
    "data = np.random.normal(0, 10, (100, 1)) # 평균 0, 표준편차 10\n",
    "target = np.random.normal(0, 1, 100)"
   ]
  },
  {
   "cell_type": "markdown",
   "metadata": {},
   "source": [
    "* `np.random.normal(0, 10 (100, 1))`\n",
    "= `np.random.normal(loc=0, scale=10, size=(100, 1))`\n",
    "\n",
    "1. loc=0\n",
    "  * 평균을 의미\n",
    "  * 생성될 정규분포 데이터의 중심값이 0\n",
    "2. scale=10\n",
    "  * 표준편차를 의미\n",
    "  * 데이터가 평균에서 얼마나 퍼져 있는지 나타냄\n",
    "  * 10이면 평균을 중심으로 ±10 정도의 범위에 데이터가 많이 몰려 있다.\n",
    "3. size=(100, 1)\n",
    "  * 출력될 배열의 shape(크기)를 정해줘\n",
    "  * (100, 1)이면 100행 1열짜리 2차원 배열이 생성된다.\n",
    "  * size가 100이라면 그저 난수 100개를 생성해서 1차원 배열로 반환한다."
   ]
  },
  {
   "cell_type": "code",
   "execution_count": null,
   "metadata": {},
   "outputs": [],
   "source": [
    "class LinearRegression:\n",
    "  def __init__(self, data, target, scaling=False):\n",
    "    self.data = data\n",
    "    self.target = target\n",
    "    self.num_instances = self.data.shape[0] # 행의 개수\n",
    "    self.num_features = self.data.shape[1] # 열의 개수\n",
    "    self.scaling = scaling\n",
    "\n",
    "    print(f\"num_instances: {self.num_instances}, num_features: {self.num_features}, scaling: {scaling}\")\n",
    "  \n",
    "  # 모든 변수를 0과 1사이의 값으로 만들어준다.\n",
    "  def min_max(self):\n",
    "    for i in range(self.num_features):\n",
    "      col = self.data[:,i]\n",
    "      self.data[:,i] = (self.data[:,i]-np.min(col))/(np.max(col)-np.min(col))\n",
    "\n",
    "      return self # 메서드에서 self를 반환한다는 것은 단순히 메서드가 호출 된 인스턴스 개체에 대한 참조를 반환한다는 것을 의미\n",
    "    \n",
    "  def solver(self):\n",
    "    if self.scaling:\n",
    "      self.min_max()\n",
    "\n",
    "    # linear regression 알고리즘...\n",
    "    # 원래는 선형이 그려지게 코드를 작성해야 하지만 생략..\n",
    "    \n",
    "    plt.plot(self.data, self.target, '.')\n",
    "    plt.show()"
   ]
  },
  {
   "cell_type": "markdown",
   "metadata": {},
   "source": [
    "* __init__\n",
    "  * 생성자 메서드\n",
    "  * self는 인스턴스 개체에 대한 참조\n",
    "  * self.data와 같이 인스턴스 개체의 속성을 생성할 수 있다.\n",
    "  * `__init__`을 이용해서 Class가 외부에서 값을 받을 수 있다.\n",
    "\n",
    "* Class안의 함수들은 파라미터로 self를 꼭 가지고 있어야 한다.\n",
    "\n",
    "* `np.random.normal(0, 10 (100, 1))`\n",
    "  * 이 경우 변수 100행 1열 이고, 변수 하나에 타겟값 하나이므로 1변수 함수가 된다.\n",
    "  * 2차원 상에서 그릴 수 있는 함수가 된다."
   ]
  },
  {
   "cell_type": "code",
   "execution_count": 19,
   "metadata": {},
   "outputs": [
    {
     "name": "stdout",
     "output_type": "stream",
     "text": [
      "num_instances: 100, num_features: 1, scaling: False\n"
     ]
    },
    {
     "data": {
      "image/png": "[encoded data removed]",
      "text/plain": [
       "<Figure size 640x480 with 1 Axes>"
      ]
     },
     "metadata": {},
     "output_type": "display_data"
    }
   ],
   "source": [
    "m1 = LinearRegression(data, target)\n",
    "m1.solver()"
   ]
  },
  {
   "cell_type": "code",
   "execution_count": null,
   "metadata": {},
   "outputs": [
    {
     "name": "stdout",
     "output_type": "stream",
     "text": [
      "num_instances: 100, num_features: 1, scaling: True\n"
     ]
    },
    {
     "data": {
      "image/png": "[encoded data removed]",
      "text/plain": [
       "<Figure size 640x480 with 1 Axes>"
      ]
     },
     "metadata": {},
     "output_type": "display_data"
    }
   ],
   "source": [
    "m2 = LinearRegression(data, target, True) # 0과 1사이의 값으로 변환\n",
    "m2.solver()"
   ]
  }
 ],
 "metadata": {
  "kernelspec": {
   "display_name": "base",
   "language": "python",
   "name": "python3"
  },
  "language_info": {
   "codemirror_mode": {
    "name": "ipython",
    "version": 3
   },
   "file_extension": ".py",
   "mimetype": "text/x-python",
   "name": "python",
   "nbconvert_exporter": "python",
   "pygments_lexer": "ipython3",
   "version": "3.12.7"
  }
 },
 "nbformat": 4,
 "nbformat_minor": 2
}
