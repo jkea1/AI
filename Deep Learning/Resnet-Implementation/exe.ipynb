{
 "cells": [
  {
   "cell_type": "markdown",
   "metadata": {
    "id": "p0U2DqJqC6kj"
   },
   "source": [
    "# ResNet\n",
    "[Reference: Kaiming He, Xiangyu Zhang, Shaoqing Ren, Jian Sun (2016) \"Deep Residual Learning for Image Recognition\", CVPR2016](https://www.cv-foundation.org/openaccess/content_cvpr_2016/papers/He_Deep_Residual_Learning_CVPR_2016_paper.pdf)"
   ]
  },
  {
   "cell_type": "code",
   "execution_count": null,
   "metadata": {
    "colab": {
     "base_uri": "https://localhost:8080/"
    },
    "executionInfo": {
     "elapsed": 34884,
     "status": "ok",
     "timestamp": 1678735529491,
     "user": {
      "displayName": "딥러닝호형",
      "userId": "11263585794403583722"
     },
     "user_tz": -60
    },
    "id": "ZWpn0YuaY1QH",
    "outputId": "41e44e97-67de-4238-cb3c-ab82545f1438"
   },
   "outputs": [
    {
     "name": "stdout",
     "output_type": "stream",
     "text": [
      "Mounted at /content/gdrive\n"
     ]
    }
   ],
   "source": [
    "from google.colab import drive\n",
    "drive.mount('/content/gdrive')"
   ]
  },
  {
   "cell_type": "code",
   "execution_count": null,
   "metadata": {
    "colab": {
     "base_uri": "https://localhost:8080/"
    },
    "executionInfo": {
     "elapsed": 3186,
     "status": "ok",
     "timestamp": 1678735532666,
     "user": {
      "displayName": "딥러닝호형",
      "userId": "11263585794403583722"
     },
     "user_tz": -60
    },
    "id": "8xzqirmSY3m3",
    "outputId": "3efe6250-75e4-4529-88be-7a6bd220c05b"
   },
   "outputs": [
    {
     "name": "stdout",
     "output_type": "stream",
     "text": [
      "/content/gdrive/My Drive/deeplearningbrov2/pytorch/advanced/ResNet\n"
     ]
    }
   ],
   "source": [
    "cd/content/gdrive/My Drive/deeplearningbrov2/pytorch/advanced/ResNet"
   ]
  },
  {
   "cell_type": "code",
   "execution_count": null,
   "metadata": {
    "id": "P2_nuVD7Y-Fv"
   },
   "outputs": [],
   "source": [
    "!python main.py"
   ]
  },
  {
   "cell_type": "code",
   "execution_count": null,
   "metadata": {
    "colab": {
     "base_uri": "https://localhost:8080/"
    },
    "executionInfo": {
     "elapsed": 142279,
     "status": "ok",
     "timestamp": 1678740151401,
     "user": {
      "displayName": "딥러닝호형",
      "userId": "11263585794403583722"
     },
     "user_tz": -60
    },
    "id": "T9BdWqsnZB_F",
    "outputId": "0e0297fa-a23f-41d5-b51c-32548fb32c8d"
   },
   "outputs": [
    {
     "name": "stdout",
     "output_type": "stream",
     "text": [
      "Namespace(batch_size=128, num_epochs=101, lr=0.001, l2=0.0001, model_name='resnet18', pretrained='./results/resnet18_best.pth', train='eval')\n",
      "Files already downloaded and verified\n",
      "Files already downloaded and verified\n",
      "Completed you pretrained model.\n",
      "Completed loading your network.\n",
      "Completed loading your datasets.\n",
      " Train Accuracy: 96.598, Test Accuraccy: 90.07\n"
     ]
    }
   ],
   "source": [
    "!python main.py --train eval --pretrained ./results/resnet18_best.pth"
   ]
  },
  {
   "cell_type": "code",
   "execution_count": null,
   "metadata": {
    "id": "HrfnEH95Gief"
   },
   "outputs": [],
   "source": []
  }
 ],
 "metadata": {
  "accelerator": "GPU",
  "colab": {
   "authorship_tag": "ABX9TyMN8PlJJBBDpmzAMxJYf5hQ",
   "provenance": []
  },
  "kernelspec": {
   "display_name": "Python 3",
   "name": "python3"
  }
 },
 "nbformat": 4,
 "nbformat_minor": 0
}
