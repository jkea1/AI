{
 "cells": [
  {
   "cell_type": "markdown",
   "id": "06224dac",
   "metadata": {},
   "source": [
    "### Supervised Learning 지도 학습\n",
    "\n",
    "Supervised Learning은 Machine Learning의 한 종류로, input(입력)과 label(정답)이 주어진 상태에서, 입력에서 정답을 예측하는 모델을 학습시키는 방식이다.\n",
    "\n",
    "예를 들어, 이메일 -> 스팸 여부, 사진 -> 고양이 or 강아지, 딥러닝에서는 CNN으로 이미지 분류(사진 -> 라벨), transformer로 문장 번역(입력 문장 -> 번역 결과) 등에 사용된다."
   ]
  }
 ],
 "metadata": {
  "language_info": {
   "name": "python"
  }
 },
 "nbformat": 4,
 "nbformat_minor": 5
}
