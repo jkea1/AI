{
 "cells": [
  {
   "cell_type": "markdown",
   "id": "8ee2760e",
   "metadata": {},
   "source": [
    "### Bi-LSTM\n",
    "Bi-directional LSTM은 시퀀스를 순방향(forward)과 역방향(backward) 두 방향으로 처리하는 LSTM을 병렬적으로 구성하여, 과거와 미래의 문맥 정보를 동시에 반영할 수 있는 순환 신경망 구조이다. 이를 통해 시계열 데이터나 자연어 처리와 같이 양방향 문맥이 중요한 문제에서 보다 정교한 특징 표현이 가능하다.\n",
    "\n",
    "각각 순방향 LSTM, 역방향 LSTM 하게 하여 각각을 수행한 후 그 결과들을 concatenate 시켜 예측에 이용한다.  \n",
    "\n",
    "\n",
    "<img src=\"./images/bi-LSTM.png\" width=\"400\"/>"
   ]
  },
  {
   "cell_type": "code",
   "execution_count": 1,
   "id": "42d124c7",
   "metadata": {},
   "outputs": [],
   "source": [
    "import torch\n",
    "import torchvision\n",
    "import torch.nn as nn \n",
    "import torch.optim as optim  \n",
    "from torch.utils.data import DataLoader"
   ]
  },
  {
   "cell_type": "code",
   "execution_count": null,
   "id": "258547f9",
   "metadata": {},
   "outputs": [
    {
     "name": "stderr",
     "output_type": "stream",
     "text": [
      "100%|██████████| 9.91M/9.91M [00:02<00:00, 4.72MB/s]\n",
      "100%|██████████| 28.9k/28.9k [00:00<00:00, 156kB/s]\n",
      "100%|██████████| 1.65M/1.65M [00:01<00:00, 1.29MB/s]\n",
      "100%|██████████| 4.54k/4.54k [00:00<00:00, 4.39MB/s]\n"
     ]
    }
   ],
   "source": [
    "# Load Data\n",
    "tensor_mode = torchvision.transforms.ToTensor()\n",
    "trainset = torchvision.datasets.MNIST(root=\"./data\", train=True, transform=tensor_mode, download=True) # 손글씨 이미지로 표현한 흑백 이미지(Grayscale) 데이터셋\n",
    "testset = torchvision.datasets.MNIST(root=\"./data\", train=False, transform=tensor_mode, download=True)\n",
    "trainloader = DataLoader(trainset, batch_size=128, shuffle=True)\n",
    "testloader = DataLoader(testset, batch_size=128, shuffle=False)"
   ]
  },
  {
   "cell_type": "code",
   "execution_count": 3,
   "id": "3ae2f2c5",
   "metadata": {},
   "outputs": [],
   "source": [
    "class BiLSTM(nn.Module):\n",
    "  def __init__(self, input_size, hidden_size, num_layers, seq_length, num_classes, device):\n",
    "    super(BiLSTM, self).__init__()\n",
    "    self.device = device\n",
    "    self.hidden_size = hidden_size\n",
    "    self.num_layers = num_layers\n",
    "    self.seq_length = seq_length\n",
    "    self.lstm = nn.LSTM(input_size, hidden_size, num_layers, batch_first=True, bidirectional=True)\n",
    "    self.fc = nn.Linear(seq_length*hidden_size * 2, num_classes) # classifier 에 해당하는 fully connected layer에 넣어준다.\n",
    "\n",
    "  def forward(self, x):\n",
    "    h0 = torch.zeros(self.num_layers * 2, x.size(0), self.hidden_size).to(self.device) # 순방향, 역방향을 고려하여 2개의 레이어가 필요하다.\n",
    "    c0 = torch.zeros(self.num_layers * 2, x.size(0), self.hidden_size).to(self.device)\n",
    "    out, _ = self.lstm(x, (h0, c0))\n",
    "    #out = self.fc(out[:, -1, :])\n",
    "    out = out.reshape(-1,self.seq_length*self.hidden_size * 2) # 배열을 1열로 만들어준다\n",
    "    out = self.fc(out)\n",
    "    return out"
   ]
  },
  {
   "cell_type": "code",
   "execution_count": 4,
   "id": "7e47d7fb",
   "metadata": {},
   "outputs": [],
   "source": [
    "device = torch.device(\"cuda\" if torch.cuda.is_available() else \"cpu\")\n",
    "sequence_length = trainset.data.size(1)\n",
    "input_size = trainset.data.size(2)\n",
    "num_layers = 2\n",
    "hidden_size = 12\n",
    "num_classes = 10"
   ]
  },
  {
   "cell_type": "code",
   "execution_count": 5,
   "id": "1dcc8160",
   "metadata": {},
   "outputs": [],
   "source": [
    "model = BiLSTM(input_size, hidden_size, num_layers, sequence_length, num_classes, device)\n",
    "model = model.to(device)   "
   ]
  },
  {
   "cell_type": "code",
   "execution_count": 6,
   "id": "f4ed503f",
   "metadata": {},
   "outputs": [],
   "source": [
    "criterion = nn.CrossEntropyLoss()\n",
    "optimizer = optim.Adam(model.parameters(), lr=5e-3)"
   ]
  },
  {
   "cell_type": "code",
   "execution_count": 7,
   "id": "e8d015e8",
   "metadata": {},
   "outputs": [
    {
     "name": "stdout",
     "output_type": "stream",
     "text": [
      "[0] train acc: 91.57\n",
      "[1] train acc: 97.45\n",
      "[2] train acc: 98.16\n",
      "[3] train acc: 98.46\n",
      "[4] train acc: 98.72\n",
      "[5] train acc: 98.80\n",
      "[6] train acc: 99.00\n",
      "[7] train acc: 99.09\n",
      "[8] train acc: 99.14\n",
      "[9] train acc: 99.24\n",
      "[10] train acc: 99.31\n"
     ]
    }
   ],
   "source": [
    "for epoch in range(11):\n",
    "    correct = 0\n",
    "    total = 0\n",
    "    for data in trainloader:\n",
    "        optimizer.zero_grad()\n",
    "        inputs, labels = data[0].to(device).squeeze(1), data[1].to(device)  # [128, 1, 28, 28] -> [128, 28, 28]\n",
    "        outputs = model(inputs)\n",
    "        loss = criterion(outputs, labels)        \n",
    "        loss.backward()\n",
    "        optimizer.step()\n",
    "\n",
    "        _, predicted = torch.max(outputs.detach(), 1)\n",
    "        total += labels.size(0)\n",
    "        correct += (predicted == labels).sum().item()\n",
    "\n",
    "    print('[%d] train acc: %.2f' %(epoch, 100*correct/total))     "
   ]
  },
  {
   "cell_type": "code",
   "execution_count": null,
   "id": "68197f24",
   "metadata": {},
   "outputs": [],
   "source": [
    "def accuracy(dataloader):\n",
    "    correct = 0\n",
    "    total = 0\n",
    "    \n",
    "    with torch.no_grad():\n",
    "        model.eval()\n",
    "        for data in dataloader:\n",
    "            inputs, labels = data[0].to(device).squeeze(1), data[1].to(device)      \n",
    "            outputs = model(inputs)\n",
    "            _, predicted = torch.max(outputs, 1)\n",
    "            total += labels.size(0)      \n",
    "            correct += (predicted == labels).sum().item()\n",
    "\n",
    "    acc = 100*correct/total\n",
    "    model.train()\n",
    "    return acc"
   ]
  },
  {
   "cell_type": "code",
   "execution_count": 9,
   "id": "4a90a0e1",
   "metadata": {},
   "outputs": [
    {
     "name": "stdout",
     "output_type": "stream",
     "text": [
      "Train Acc: 99.3, Test Acc: 98.5\n"
     ]
    }
   ],
   "source": [
    "train_acc = accuracy(trainloader)\n",
    "test_acc = accuracy(testloader)\n",
    "print(\"Train Acc: %.1f, Test Acc: %.1f\" %(train_acc, test_acc))"
   ]
  },
  {
   "cell_type": "markdown",
   "id": "50cd5779",
   "metadata": {},
   "source": [
    "이미지 처리에 있어서 CNN을 고수 하지 않아도 된다. 최근에는 CNN을 전혀 이용하지 않은 Vision transformer가 나오기도 했다. 어떤 문제를 생각할떄 정형화된 방법이 있지 않다는 것을 염두해 두는 것이 좋다."
   ]
  }
 ],
 "metadata": {
  "kernelspec": {
   "display_name": "base",
   "language": "python",
   "name": "python3"
  },
  "language_info": {
   "codemirror_mode": {
    "name": "ipython",
    "version": 3
   },
   "file_extension": ".py",
   "mimetype": "text/x-python",
   "name": "python",
   "nbconvert_exporter": "python",
   "pygments_lexer": "ipython3",
   "version": "3.12.7"
  }
 },
 "nbformat": 4,
 "nbformat_minor": 5
}
