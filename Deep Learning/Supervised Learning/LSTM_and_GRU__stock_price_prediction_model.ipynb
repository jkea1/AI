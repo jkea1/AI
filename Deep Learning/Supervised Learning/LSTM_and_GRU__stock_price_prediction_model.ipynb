{
 "cells": [
  {
   "cell_type": "markdown",
   "id": "e502c4eb",
   "metadata": {},
   "source": [
    "### RNN (Recurrent Neural Network)\n",
    "\n",
    "순환 신경망(RNN = Recurrent Neural Network)은 시퀀스(연속된 데이터)를 다루기 위해 설계된 인공 신경망의 한 종류이다. 일반적으로 다층 퍼셉트론(Multi-layer Perceptron, MLP)이나 CNN은 입력 간의 시간적 순서를 고려하지 않는다. 반면, RNN은 이전 입력에서의 정보를 메모리(state) 형태로 유지해서, 과거의 정보가 현재 출력에 영향을 줄 수 있게 만든다.\n",
    "\n",
    "그래서 순서가 중요한 데이터를 처리하는 데 탁월하다. 예를 들어, 문장 번역 (자연어 처리), 음성 인식, 주식 시계열 예측, 날씨 예측\n",
    "\n",
    "**구조**\n",
    "1. 입력 시퀀스\n",
    "2. 은닉 상태(Hidden State)\n",
    "3. 출력 (Output)\n",
    "\n",
    "일반적인 인공 신경망은 입력 -> 출력으로 끝나는 구조이다. 하지만 RNN은 이전 단계에서의 정보를 다음 단계로 넘겨주는 구조를 가지고 있다. 마치 연결된 사슬 처럼 작동한다.\n",
    "\n",
    "입력이 들어온다. -> RNN은 입력을 처리하고 기억(hidden state)에 저장한다. -> 다음 입력을 받을 떄, 이전의 기억을 함꼐 활용해서 처리한다.\n",
    "\n",
    "이 과정을 매번 반복해서 시간의 흐름에 따라 순차적으로 데이터를 다룬다.\n",
    "\n",
    "**은닉 상태**\n",
    "RNN의 핵심은 은닉 상태(hidden state) 라는 기억 장치이다.\n",
    "* 첫 입력이 들어오면, 새로운 기억을 만다.\n",
    "* 두 번째 입력이 들어오면, 첫 번째 기억과 함께 처리한다.\n",
    "* 계속 그렇게 이어지기 때문에, 과거의 흐름을 이해할 수 있다.\n",
    "\n",
    "하지만 과거가 멀어질수록 잊어버리기 쉽다는 단점도 있다.\n",
    "\n",
    "이를 개선하기 위해 LSTM, GRU 등도 나왔다. 이를 이용하면 긴 문장과 긴 시계열도 처리 할 수 있다.\n",
    "\n",
    "|모델 이름|특징|\n",
    "|-|-|\n",
    "LSTM(Long Short-Term Memory)| 중요한 정보는 오래 기억하고, 불필요한 건 잊도록 설계\n",
    "GRU(Gated Recurrent Unit) | LSTM보다 가볍고 계산량이 적으면서도 성능이 좋다.\n",
    "\n",
    "```python\n",
    "import torch.nn as nn\n",
    "\n",
    "rnn = nn.RNN(input_size=10, hidden_size=20, batch_first=True)\n",
    "```\n",
    "\n",
    "* input_size : 들어오는 데이터의 크기\n",
    "* hidden_size : RNN이 내부적으로 기억하는 크기\n",
    "* batch_first=True : 데이터를 배치, 시퀀스, 특성 순서로 준다.\n",
    "\n"
   ]
  },
  {
   "cell_type": "code",
   "execution_count": 14,
   "id": "8b397190",
   "metadata": {},
   "outputs": [],
   "source": [
    "import numpy as np\n",
    "import pandas as pd\n",
    "from sklearn.preprocessing import MinMaxScaler\n",
    "\n",
    "import torch\n",
    "import torch.nn as nn\n",
    "from torch.utils.data import DataLoader, TensorDataset\n",
    "import torch.optim as optim\n",
    "\n",
    "import matplotlib.pyplot as plt\n",
    "from tqdm import trange"
   ]
  },
  {
   "cell_type": "markdown",
   "id": "cddd0dea",
   "metadata": {},
   "source": [
    "### 1. 데이터 불러오기"
   ]
  },
  {
   "cell_type": "code",
   "execution_count": 15,
   "id": "1132fd7c",
   "metadata": {},
   "outputs": [],
   "source": [
    "df = pd.read_csv(\"./data/kospi.csv\")"
   ]
  },
  {
   "cell_type": "code",
   "execution_count": 16,
   "id": "20c1891d",
   "metadata": {},
   "outputs": [
    {
     "data": {
      "application/vnd.microsoft.datawrangler.viewer.v0+json": {
       "columns": [
        {
         "name": "index",
         "rawType": "int64",
         "type": "integer"
        },
        {
         "name": "Date",
         "rawType": "object",
         "type": "string"
        },
        {
         "name": "Open",
         "rawType": "float64",
         "type": "float"
        },
        {
         "name": "High",
         "rawType": "float64",
         "type": "float"
        },
        {
         "name": "Low",
         "rawType": "float64",
         "type": "float"
        },
        {
         "name": "Close",
         "rawType": "float64",
         "type": "float"
        },
        {
         "name": "Adj Close",
         "rawType": "float64",
         "type": "float"
        },
        {
         "name": "Volume",
         "rawType": "int64",
         "type": "integer"
        }
       ],
       "conversionMethod": "pd.DataFrame",
       "ref": "f52c7be5-f3c7-4d0e-be9d-5b2318560575",
       "rows": [
        [
         "0",
         "2019-01-30",
         "2183.48999",
         "2206.199951",
         "2177.879883",
         "2206.199951",
         "2206.199951",
         "480400"
        ],
        [
         "1",
         "2019-01-31",
         "2222.879883",
         "2222.879883",
         "2201.219971",
         "2204.850098",
         "2204.850098",
         "545200"
        ],
        [
         "2",
         "2019-02-01",
         "2211.929932",
         "2218.780029",
         "2201.409912",
         "2203.459961",
         "2203.459961",
         "479400"
        ],
        [
         "3",
         "2019-02-07",
         "2215.77002",
         "2215.790039",
         "2196.77002",
         "2203.419922",
         "2203.419922",
         "427800"
        ],
        [
         "4",
         "2019-02-08",
         "2192.01001",
         "2192.47998",
         "2171.959961",
         "2177.050049",
         "2177.050049",
         "391000"
        ]
       ],
       "shape": {
        "columns": 7,
        "rows": 5
       }
      },
      "text/html": [
       "<div>\n",
       "<style scoped>\n",
       "    .dataframe tbody tr th:only-of-type {\n",
       "        vertical-align: middle;\n",
       "    }\n",
       "\n",
       "    .dataframe tbody tr th {\n",
       "        vertical-align: top;\n",
       "    }\n",
       "\n",
       "    .dataframe thead th {\n",
       "        text-align: right;\n",
       "    }\n",
       "</style>\n",
       "<table border=\"1\" class=\"dataframe\">\n",
       "  <thead>\n",
       "    <tr style=\"text-align: right;\">\n",
       "      <th></th>\n",
       "      <th>Date</th>\n",
       "      <th>Open</th>\n",
       "      <th>High</th>\n",
       "      <th>Low</th>\n",
       "      <th>Close</th>\n",
       "      <th>Adj Close</th>\n",
       "      <th>Volume</th>\n",
       "    </tr>\n",
       "  </thead>\n",
       "  <tbody>\n",
       "    <tr>\n",
       "      <th>0</th>\n",
       "      <td>2019-01-30</td>\n",
       "      <td>2183.489990</td>\n",
       "      <td>2206.199951</td>\n",
       "      <td>2177.879883</td>\n",
       "      <td>2206.199951</td>\n",
       "      <td>2206.199951</td>\n",
       "      <td>480400</td>\n",
       "    </tr>\n",
       "    <tr>\n",
       "      <th>1</th>\n",
       "      <td>2019-01-31</td>\n",
       "      <td>2222.879883</td>\n",
       "      <td>2222.879883</td>\n",
       "      <td>2201.219971</td>\n",
       "      <td>2204.850098</td>\n",
       "      <td>2204.850098</td>\n",
       "      <td>545200</td>\n",
       "    </tr>\n",
       "    <tr>\n",
       "      <th>2</th>\n",
       "      <td>2019-02-01</td>\n",
       "      <td>2211.929932</td>\n",
       "      <td>2218.780029</td>\n",
       "      <td>2201.409912</td>\n",
       "      <td>2203.459961</td>\n",
       "      <td>2203.459961</td>\n",
       "      <td>479400</td>\n",
       "    </tr>\n",
       "    <tr>\n",
       "      <th>3</th>\n",
       "      <td>2019-02-07</td>\n",
       "      <td>2215.770020</td>\n",
       "      <td>2215.790039</td>\n",
       "      <td>2196.770020</td>\n",
       "      <td>2203.419922</td>\n",
       "      <td>2203.419922</td>\n",
       "      <td>427800</td>\n",
       "    </tr>\n",
       "    <tr>\n",
       "      <th>4</th>\n",
       "      <td>2019-02-08</td>\n",
       "      <td>2192.010010</td>\n",
       "      <td>2192.479980</td>\n",
       "      <td>2171.959961</td>\n",
       "      <td>2177.050049</td>\n",
       "      <td>2177.050049</td>\n",
       "      <td>391000</td>\n",
       "    </tr>\n",
       "  </tbody>\n",
       "</table>\n",
       "</div>"
      ],
      "text/plain": [
       "         Date         Open         High          Low        Close  \\\n",
       "0  2019-01-30  2183.489990  2206.199951  2177.879883  2206.199951   \n",
       "1  2019-01-31  2222.879883  2222.879883  2201.219971  2204.850098   \n",
       "2  2019-02-01  2211.929932  2218.780029  2201.409912  2203.459961   \n",
       "3  2019-02-07  2215.770020  2215.790039  2196.770020  2203.419922   \n",
       "4  2019-02-08  2192.010010  2192.479980  2171.959961  2177.050049   \n",
       "\n",
       "     Adj Close  Volume  \n",
       "0  2206.199951  480400  \n",
       "1  2204.850098  545200  \n",
       "2  2203.459961  479400  \n",
       "3  2203.419922  427800  \n",
       "4  2177.050049  391000  "
      ]
     },
     "execution_count": 16,
     "metadata": {},
     "output_type": "execute_result"
    }
   ],
   "source": [
    "df.head() # 기본적으로 5개의 행을 보여준다."
   ]
  },
  {
   "cell_type": "code",
   "execution_count": 17,
   "id": "cdcd5922",
   "metadata": {},
   "outputs": [],
   "source": [
    "scaler = MinMaxScaler()\n",
    "# 모든 값을 0과 1 사이로 스케일링 한다.\n",
    "df[[\"Open\", \"High\", \"Low\", \"Close\", \"Volume\"]] = scaler.fit_transform(df[[\"Open\", \"High\", \"Low\", \"Close\", \"Volume\"]])"
   ]
  },
  {
   "cell_type": "code",
   "execution_count": 18,
   "id": "2ce4f943",
   "metadata": {},
   "outputs": [
    {
     "data": {
      "application/vnd.microsoft.datawrangler.viewer.v0+json": {
       "columns": [
        {
         "name": "index",
         "rawType": "int64",
         "type": "integer"
        },
        {
         "name": "Date",
         "rawType": "object",
         "type": "string"
        },
        {
         "name": "Open",
         "rawType": "float64",
         "type": "float"
        },
        {
         "name": "High",
         "rawType": "float64",
         "type": "float"
        },
        {
         "name": "Low",
         "rawType": "float64",
         "type": "float"
        },
        {
         "name": "Close",
         "rawType": "float64",
         "type": "float"
        },
        {
         "name": "Adj Close",
         "rawType": "float64",
         "type": "float"
        },
        {
         "name": "Volume",
         "rawType": "float64",
         "type": "float"
        }
       ],
       "conversionMethod": "pd.DataFrame",
       "ref": "2d527a85-6b49-40db-80d2-ea0afa94eb01",
       "rows": [
        [
         "0",
         "2019-01-30",
         "0.7228979360480015",
         "0.7323511377742016",
         "0.7455249449721042",
         "0.7592347284502223",
         "2206.199951",
         "0.24211269025299867"
        ],
        [
         "1",
         "2019-01-31",
         "0.7630576883675055",
         "0.7500689825002451",
         "0.7690886552452958",
         "0.7578656259553982",
         "2204.850098",
         "0.2747706884386654"
        ],
        [
         "2",
         "2019-02-01",
         "0.7518937250617226",
         "0.7457140141123972",
         "0.7692804160772604",
         "0.7564556649930962",
         "2203.459961",
         "0.24160870879951615"
        ],
        [
         "3",
         "2019-02-07",
         "0.7558088660082873",
         "0.7425379712752671",
         "0.7645960690950679",
         "0.7564150550194249",
         "2203.419922",
         "0.21560326579981856"
        ],
        [
         "4",
         "2019-02-08",
         "0.7315844763480022",
         "0.7177774383236393",
         "0.7395483039736686",
         "0.729669136084188",
         "2177.050049",
         "0.19705674831166212"
        ]
       ],
       "shape": {
        "columns": 7,
        "rows": 5
       }
      },
      "text/html": [
       "<div>\n",
       "<style scoped>\n",
       "    .dataframe tbody tr th:only-of-type {\n",
       "        vertical-align: middle;\n",
       "    }\n",
       "\n",
       "    .dataframe tbody tr th {\n",
       "        vertical-align: top;\n",
       "    }\n",
       "\n",
       "    .dataframe thead th {\n",
       "        text-align: right;\n",
       "    }\n",
       "</style>\n",
       "<table border=\"1\" class=\"dataframe\">\n",
       "  <thead>\n",
       "    <tr style=\"text-align: right;\">\n",
       "      <th></th>\n",
       "      <th>Date</th>\n",
       "      <th>Open</th>\n",
       "      <th>High</th>\n",
       "      <th>Low</th>\n",
       "      <th>Close</th>\n",
       "      <th>Adj Close</th>\n",
       "      <th>Volume</th>\n",
       "    </tr>\n",
       "  </thead>\n",
       "  <tbody>\n",
       "    <tr>\n",
       "      <th>0</th>\n",
       "      <td>2019-01-30</td>\n",
       "      <td>0.722898</td>\n",
       "      <td>0.732351</td>\n",
       "      <td>0.745525</td>\n",
       "      <td>0.759235</td>\n",
       "      <td>2206.199951</td>\n",
       "      <td>0.242113</td>\n",
       "    </tr>\n",
       "    <tr>\n",
       "      <th>1</th>\n",
       "      <td>2019-01-31</td>\n",
       "      <td>0.763058</td>\n",
       "      <td>0.750069</td>\n",
       "      <td>0.769089</td>\n",
       "      <td>0.757866</td>\n",
       "      <td>2204.850098</td>\n",
       "      <td>0.274771</td>\n",
       "    </tr>\n",
       "    <tr>\n",
       "      <th>2</th>\n",
       "      <td>2019-02-01</td>\n",
       "      <td>0.751894</td>\n",
       "      <td>0.745714</td>\n",
       "      <td>0.769280</td>\n",
       "      <td>0.756456</td>\n",
       "      <td>2203.459961</td>\n",
       "      <td>0.241609</td>\n",
       "    </tr>\n",
       "    <tr>\n",
       "      <th>3</th>\n",
       "      <td>2019-02-07</td>\n",
       "      <td>0.755809</td>\n",
       "      <td>0.742538</td>\n",
       "      <td>0.764596</td>\n",
       "      <td>0.756415</td>\n",
       "      <td>2203.419922</td>\n",
       "      <td>0.215603</td>\n",
       "    </tr>\n",
       "    <tr>\n",
       "      <th>4</th>\n",
       "      <td>2019-02-08</td>\n",
       "      <td>0.731584</td>\n",
       "      <td>0.717777</td>\n",
       "      <td>0.739548</td>\n",
       "      <td>0.729669</td>\n",
       "      <td>2177.050049</td>\n",
       "      <td>0.197057</td>\n",
       "    </tr>\n",
       "  </tbody>\n",
       "</table>\n",
       "</div>"
      ],
      "text/plain": [
       "         Date      Open      High       Low     Close    Adj Close    Volume\n",
       "0  2019-01-30  0.722898  0.732351  0.745525  0.759235  2206.199951  0.242113\n",
       "1  2019-01-31  0.763058  0.750069  0.769089  0.757866  2204.850098  0.274771\n",
       "2  2019-02-01  0.751894  0.745714  0.769280  0.756456  2203.459961  0.241609\n",
       "3  2019-02-07  0.755809  0.742538  0.764596  0.756415  2203.419922  0.215603\n",
       "4  2019-02-08  0.731584  0.717777  0.739548  0.729669  2177.050049  0.197057"
      ]
     },
     "execution_count": 18,
     "metadata": {},
     "output_type": "execute_result"
    }
   ],
   "source": [
    "df.head() # 스케일링된 데이터 확인"
   ]
  },
  {
   "cell_type": "code",
   "execution_count": 19,
   "id": "5cc457cb",
   "metadata": {},
   "outputs": [
    {
     "name": "stdout",
     "output_type": "stream",
     "text": [
      "<class 'pandas.core.frame.DataFrame'>\n",
      "RangeIndex: 431 entries, 0 to 430\n",
      "Data columns (total 7 columns):\n",
      " #   Column     Non-Null Count  Dtype  \n",
      "---  ------     --------------  -----  \n",
      " 0   Date       431 non-null    object \n",
      " 1   Open       431 non-null    float64\n",
      " 2   High       431 non-null    float64\n",
      " 3   Low        431 non-null    float64\n",
      " 4   Close      431 non-null    float64\n",
      " 5   Adj Close  431 non-null    float64\n",
      " 6   Volume     431 non-null    float64\n",
      "dtypes: float64(6), object(1)\n",
      "memory usage: 23.7+ KB\n"
     ]
    }
   ],
   "source": [
    "df.info()"
   ]
  },
  {
   "cell_type": "markdown",
   "id": "c4d4bf0d",
   "metadata": {},
   "source": [
    "2. 텐서 데이터 만들기"
   ]
  },
  {
   "cell_type": "code",
   "execution_count": 20,
   "id": "b19a3f81",
   "metadata": {},
   "outputs": [
    {
     "name": "stdout",
     "output_type": "stream",
     "text": [
      "mps is available\n"
     ]
    }
   ],
   "source": [
    "device = torch.device(\"mps\" if torch.backends.mps.is_available() else \"cpu\")\n",
    "\n",
    "print(f'{device} is available')"
   ]
  },
  {
   "cell_type": "code",
   "execution_count": 21,
   "id": "36b6726a",
   "metadata": {},
   "outputs": [
    {
     "name": "stdout",
     "output_type": "stream",
     "text": [
      "[[0.72289794 0.73235114 0.74552494 0.24211269]\n",
      " [0.76305769 0.75006898 0.76908866 0.27477069]\n",
      " [0.75189373 0.74571401 0.76928042 0.24160871]\n",
      " ...\n",
      " [0.86633761 0.88027663 0.88544287 0.35540772]\n",
      " [0.85426636 0.86403517 0.86872415 0.25657696]\n",
      " [0.86162744 0.85344481 0.83542819 0.40096008]]\n",
      "[[0.75923473]\n",
      " [0.75786563]\n",
      " [0.75645566]\n",
      " [0.75641506]\n",
      " [0.72966914]\n",
      " [0.73340154]\n",
      " [0.74328043]\n",
      " [0.75444745]\n",
      " [0.7791651 ]\n",
      " [0.74898069]\n",
      " [0.76399155]\n",
      " [0.75865653]\n",
      " [0.78313076]\n",
      " [0.78201498]\n",
      " [0.78388131]\n",
      " [0.78597074]\n",
      " [0.77992579]\n",
      " [0.78823252]\n",
      " [0.74832128]\n",
      " [0.74347308]\n",
      " [0.73188015]\n",
      " [0.72819851]\n",
      " [0.71824855]\n",
      " [0.68949417]\n",
      " [0.69016374]\n",
      " [0.70951566]\n",
      " [0.70062058]\n",
      " [0.70799427]\n",
      " [0.72871579]\n",
      " [0.73214387]\n",
      " [0.73024733]\n",
      " [0.7297199 ]\n",
      " [0.73761063]\n",
      " [0.73971022]\n",
      " [0.69702015]\n",
      " [0.70101628]\n",
      " [0.697791  ]\n",
      " [0.68002114]\n",
      " [0.69277021]\n",
      " [0.72077405]\n",
      " [0.72980087]\n",
      " [0.75626302]\n",
      " [0.75956951]\n",
      " [0.76269351]\n",
      " [0.76369762]\n",
      " [0.76669979]\n",
      " [0.77768407]\n",
      " [0.77773483]\n",
      " [0.78687333]\n",
      " [0.79643773]\n",
      " [0.80226973]\n",
      " [0.79949067]\n",
      " [0.76691275]\n",
      " [0.76932657]\n",
      " [0.7698337 ]\n",
      " [0.77374886]\n",
      " [0.75399108]\n",
      " [0.74331089]\n",
      " [0.73196137]\n",
      " [0.76961059]\n",
      " [0.75658765]\n",
      " [0.76587818]\n",
      " [0.74921395]\n",
      " [0.72960822]\n",
      " [0.72050018]\n",
      " [0.65355899]\n",
      " [0.65967501]\n",
      " [0.630231  ]\n",
      " [0.63310144]\n",
      " [0.64419739]\n",
      " [0.61874951]\n",
      " [0.60669006]\n",
      " [0.60659869]\n",
      " [0.61221773]\n",
      " [0.61587932]\n",
      " [0.61053414]\n",
      " [0.59605048]\n",
      " [0.59493469]\n",
      " [0.59962069]\n",
      " [0.57374677]\n",
      " [0.58944763]\n",
      " [0.5924295 ]\n",
      " [0.61891195]\n",
      " [0.61801927]\n",
      " [0.62018992]\n",
      " [0.62345581]\n",
      " [0.65100304]\n",
      " [0.6634988 ]\n",
      " [0.6603951 ]\n",
      " [0.65471514]\n",
      " [0.64686477]\n",
      " [0.64211811]\n",
      " [0.65021188]\n",
      " [0.67665372]\n",
      " [0.68325657]\n",
      " [0.67750579]\n",
      " [0.67822588]\n",
      " [0.67346881]\n",
      " [0.67368201]\n",
      " [0.68632981]\n",
      " [0.68257709]\n",
      " [0.68168441]\n",
      " [0.67385435]\n",
      " [0.64748358]\n",
      " [0.66037479]\n",
      " [0.66226143]\n",
      " [0.61517929]\n",
      " [0.60286628]\n",
      " [0.60971253]\n",
      " [0.63182346]\n",
      " [0.63799   ]\n",
      " [0.63375046]\n",
      " [0.6432745 ]\n",
      " [0.62405407]\n",
      " [0.61759336]\n",
      " [0.6458    ]\n",
      " [0.64476543]\n",
      " [0.65299095]\n",
      " [0.63356796]\n",
      " [0.62563637]\n",
      " [0.61729918]\n",
      " [0.57999465]\n",
      " [0.58932592]\n",
      " [0.57499442]\n",
      " [0.56768152]\n",
      " [0.54819761]\n",
      " [0.49631817]\n",
      " [0.46641779]\n",
      " [0.45851666]\n",
      " [0.46957212]\n",
      " [0.48695656]\n",
      " [0.49156135]\n",
      " [0.47486653]\n",
      " [0.4875854 ]\n",
      " [0.47622573]\n",
      " [0.48913725]\n",
      " [0.50977742]\n",
      " [0.51424019]\n",
      " [0.50040567]\n",
      " [0.49765706]\n",
      " [0.46521088]\n",
      " [0.47361901]\n",
      " [0.49034416]\n",
      " [0.48255471]\n",
      " [0.51742499]\n",
      " [0.51884485]\n",
      " [0.51529494]\n",
      " [0.53846074]\n",
      " [0.55491201]\n",
      " [0.55935448]\n",
      " [0.56992312]\n",
      " [0.58263171]\n",
      " [0.59999584]\n",
      " [0.61320153]\n",
      " [0.61331321]\n",
      " [0.6218329 ]\n",
      " [0.6315902 ]\n",
      " [0.64291941]\n",
      " [0.64310191]\n",
      " [0.65257519]\n",
      " [0.62453074]\n",
      " [0.62567698]\n",
      " [0.60073623]\n",
      " [0.61404345]\n",
      " [0.62354694]\n",
      " [0.58245936]\n",
      " [0.57107926]\n",
      " [0.57213413]\n",
      " [0.59700382]\n",
      " [0.57864573]\n",
      " [0.59534042]\n",
      " [0.61845533]\n",
      " [0.61923633]\n",
      " [0.63410555]\n",
      " [0.62914567]\n",
      " [0.61164968]\n",
      " [0.61585901]\n",
      " [0.64022157]\n",
      " [0.63186407]\n",
      " [0.63697574]\n",
      " [0.63923752]\n",
      " [0.64502915]\n",
      " [0.64410602]\n",
      " [0.63150898]\n",
      " [0.63476472]\n",
      " [0.65172312]\n",
      " [0.68219155]\n",
      " [0.69476828]\n",
      " [0.69629982]\n",
      " [0.69644195]\n",
      " [0.68928122]\n",
      " [0.67595394]\n",
      " [0.69302378]\n",
      " [0.67429042]\n",
      " [0.71458696]\n",
      " [0.71307573]\n",
      " [0.70551954]\n",
      " [0.67720146]\n",
      " [0.64807193]\n",
      " [0.65350823]\n",
      " [0.67535544]\n",
      " [0.67317488]\n",
      " [0.67976757]\n",
      " [0.67038566]\n",
      " [0.63930858]\n",
      " [0.64332502]\n",
      " [0.63536322]\n",
      " [0.61996657]\n",
      " [0.61170044]\n",
      " [0.63311159]\n",
      " [0.64000836]\n",
      " [0.6494918 ]\n",
      " [0.65722058]\n",
      " [0.68940305]\n",
      " [0.72277212]\n",
      " [0.72064207]\n",
      " [0.74856469]\n",
      " [0.74763165]\n",
      " [0.74945737]\n",
      " [0.7571859 ]\n",
      " [0.75670923]\n",
      " [0.74288498]\n",
      " [0.75084678]\n",
      " [0.75721636]\n",
      " [0.75058306]\n",
      " [0.7277622 ]\n",
      " [0.72907063]\n",
      " [0.70737571]\n",
      " [0.72813759]\n",
      " [0.70356208]\n",
      " [0.73920308]\n",
      " [0.75942738]\n",
      " [0.78262363]\n",
      " [0.79238069]\n",
      " [0.78436813]\n",
      " [0.80168163]\n",
      " [0.80423758]\n",
      " [0.81647953]\n",
      " [0.7932023 ]\n",
      " [0.82115538]\n",
      " [0.79973408]\n",
      " [0.72933435]\n",
      " [0.73801648]\n",
      " [0.70020482]\n",
      " [0.67080142]\n",
      " [0.67066944]\n",
      " [0.7102459 ]\n",
      " [0.71808611]\n",
      " [0.78128474]\n",
      " [0.76506673]\n",
      " [0.75403169]\n",
      " [0.77639618]\n",
      " [0.79187356]\n",
      " [0.78637635]\n",
      " [0.79715807]\n",
      " [0.79571765]\n",
      " [0.76195288]\n",
      " [0.76343391]\n",
      " [0.74838219]\n",
      " [0.71525653]\n",
      " [0.63026146]\n",
      " [0.65518191]\n",
      " [0.62795907]\n",
      " [0.60576692]\n",
      " [0.53691904]\n",
      " [0.55264008]\n",
      " [0.56444609]\n",
      " [0.61027043]\n",
      " [0.63657013]\n",
      " [0.5908878 ]\n",
      " [0.5042193 ]\n",
      " [0.5124957 ]\n",
      " [0.45705619]\n",
      " [0.3820617 ]\n",
      " [0.31827485]\n",
      " [0.26088804]\n",
      " [0.21786307]\n",
      " [0.13546456]\n",
      " [0.        ]\n",
      " [0.11005741]\n",
      " [0.02517389]\n",
      " [0.15450225]\n",
      " [0.25064403]\n",
      " [0.23185991]\n",
      " [0.26379896]\n",
      " [0.26318028]\n",
      " [0.30123535]\n",
      " [0.23106876]\n",
      " [0.27103064]\n",
      " [0.27161887]\n",
      " [0.3390064 ]\n",
      " [0.37117871]\n",
      " [0.35448402]\n",
      " [0.38396852]\n",
      " [0.40880775]\n",
      " [0.37336955]\n",
      " [0.40513613]\n",
      " [0.40512598]\n",
      " [0.46340547]\n",
      " [0.44700483]\n",
      " [0.42775419]\n",
      " [0.44476335]\n",
      " [0.46360827]\n",
      " [0.43752152]\n",
      " [0.47176296]\n",
      " [0.48324434]\n",
      " [0.49690652]\n",
      " [0.4439722 ]\n",
      " [0.47783837]\n",
      " [0.47768621]\n",
      " [0.49514159]\n",
      " [0.48457308]\n",
      " [0.47115443]\n",
      " [0.48966468]\n",
      " [0.47398413]\n",
      " [0.47633729]\n",
      " [0.48630742]\n",
      " [0.53042775]\n",
      " [0.53958655]\n",
      " [0.54838024]\n",
      " [0.51979832]\n",
      " [0.54461725]\n",
      " [0.58029898]\n",
      " [0.58173915]\n",
      " [0.57904131]\n",
      " [0.58011636]\n",
      " [0.61610242]\n",
      " [0.63852758]\n",
      " [0.69919056]\n",
      " [0.7034301 ]\n",
      " [0.73455794]\n",
      " [0.73701237]\n",
      " [0.74170828]\n",
      " [0.74857484]\n",
      " [0.72939527]\n",
      " [0.68428098]\n",
      " [0.58135373]\n",
      " [0.69011298]\n",
      " [0.69315576]\n",
      " [0.68547774]\n",
      " [0.69342963]\n",
      " [0.67863148]\n",
      " [0.68320581]\n",
      " [0.71390749]\n",
      " [0.66406684]\n",
      " [0.68666434]\n",
      " [0.64490732]\n",
      " [0.65996919]\n",
      " [0.65831581]\n",
      " [0.68739483]\n",
      " [0.70467762]\n",
      " [0.74070417]\n",
      " [0.71660533]\n",
      " [0.71123986]\n",
      " [0.7203885 ]\n",
      " [0.70248691]\n",
      " [0.73880763]\n",
      " [0.73632274]\n",
      " [0.75485305]\n",
      " [0.73647478]\n",
      " [0.75415327]\n",
      " [0.75112064]\n",
      " [0.78218757]\n",
      " [0.78201498]\n",
      " [0.76936718]\n",
      " [0.75339258]\n",
      " [0.77106116]\n",
      " [0.81074906]\n",
      " [0.81700696]\n",
      " [0.82091197]\n",
      " [0.80302052]\n",
      " [0.80471426]\n",
      " [0.83405674]\n",
      " [0.86640164]\n",
      " [0.89759015]\n",
      " [0.90677916]\n",
      " [0.94198411]\n",
      " [0.97473461]\n",
      " [0.98860988]\n",
      " [0.99386367]\n",
      " [0.96339525]\n",
      " [0.90330032]\n",
      " [0.91577577]\n",
      " [0.82822474]\n",
      " [0.85902795]\n",
      " [0.88462788]\n",
      " [0.92205399]\n",
      " [0.92468101]\n",
      " [0.89945623]\n",
      " [0.90893967]\n",
      " [0.88091552]\n",
      " [0.90462906]\n",
      " [0.91966047]\n",
      " [0.95163988]\n",
      " [0.92359568]\n",
      " [0.93979339]\n",
      " [0.9577356 ]\n",
      " [0.93126355]\n",
      " [0.95222823]\n",
      " [0.95244119]\n",
      " [0.98410637]\n",
      " [1.        ]\n",
      " [0.99223061]\n",
      " [0.96205636]\n",
      " [0.96837518]\n",
      " [0.94503704]\n",
      " [0.88742724]\n",
      " [0.88808641]\n",
      " [0.82668305]\n",
      " [0.83285998]\n",
      " [0.86256771]\n",
      " [0.88266002]\n",
      " [0.91319951]\n",
      " [0.92121207]\n",
      " [0.94255215]\n",
      " [0.94764376]\n",
      " [0.95958162]\n",
      " [0.95899327]\n",
      " [0.93600007]\n",
      " [0.91645525]\n",
      " [0.89649467]\n",
      " [0.90177893]\n",
      " [0.91361527]\n",
      " [0.92624301]\n",
      " [0.91020749]\n",
      " [0.91604964]\n",
      " [0.89890849]\n",
      " [0.88565229]\n",
      " [0.90027784]\n",
      " [0.88142265]\n",
      " [0.82105385]]\n"
     ]
    }
   ],
   "source": [
    "# Dataset\n",
    "X = df[['Open', 'High', 'Low', 'Volume']].values # 시가, 고가, 저가, 거래량 -> 예측에 도움이 되는 특징값(feature)들\n",
    "Y = df[['Close']].values # 종가 -> 예측하고자 하는 값(target)\n",
    "\n",
    "print(X)\n",
    "print(Y)"
   ]
  },
  {
   "cell_type": "code",
   "execution_count": 22,
   "id": "5802bba1",
   "metadata": {},
   "outputs": [],
   "source": [
    "# RNN은 시계열 데이터를 순차적으로 학습하기 때문에, 고정된 길이의 입력 시퀀스(window)를 만들 필요가 있다.\n",
    "# 예를 들어, sequence_length가 5이면, 5일치 데이터를 보고 6일차의 종가를 예측하도록 구성된다.\n",
    "def seq_data(x, y, sequence_length):\n",
    "  x_seq = []\n",
    "  y_seq = []\n",
    "  \n",
    "  for i in range(len(x)-sequence_length):\n",
    "    x_seq.append(x[i:i+sequence_length].tolist()) # x[i:i+5]: 5일치 데이터 -> 입력, numpy의 list는 속도 저하를 발생시키니 list로 변환,\n",
    "    y_seq.append(y[i+sequence_length]) # y[i+5]: 6일째 종가 → 출력\n",
    "  \n",
    "  # 리스트들을 텐서로 바꾸고 MPS로 이동\n",
    "  # .view([-1, 1])는 y_seq의 shape을 (batch_size, 1)로 바꿔주는 역할\n",
    "  return torch.FloatTensor(x_seq).to(device), torch.FloatTensor(y_seq).to(device).view([-1, 1]) "
   ]
  },
  {
   "cell_type": "code",
   "execution_count": 23,
   "id": "53241ae3",
   "metadata": {},
   "outputs": [
    {
     "name": "stdout",
     "output_type": "stream",
     "text": [
      "torch.Size([426, 5, 4]) torch.Size([426, 1])\n"
     ]
    }
   ],
   "source": [
    "split = 200 # 200일을 학습하고 나머지는 테스트 용\n",
    "sequence_length = 5 # 5일치 데이터를 보고 6일차의 종가를 예측\n",
    "\n",
    "x_seq, y_seq = seq_data(X, Y, sequence_length)\n",
    "\n",
    "print(x_seq.size(), y_seq.size()) # (426, 5, 4), (426, 1)\n",
    "# x_seq: (195, 5, 4) -> 195개의 샘플, 5일치 데이터, 4개의 특징값\n",
    "# y_seq: (195, 1) -> 195개의 샘플, 1개의 종가\n",
    "\n",
    "# 학습용 200개\n",
    "x_train_seq = x_seq[:split]\n",
    "y_train_seq = y_seq[:split]\n",
    "\n",
    "# 테스트용 226개\n",
    "x_test_seq = x_seq[split:]\n",
    "y_test_seq = y_seq[split:]\n",
    "\n",
    "# print(x_train_seq.size(), y_train_seq.size())\n",
    "# print(x_test_seq.size(), y_test_seq.size())"
   ]
  },
  {
   "cell_type": "code",
   "execution_count": 11,
   "id": "acc0e45c",
   "metadata": {},
   "outputs": [],
   "source": [
    "# 텐서로 된 x, y를 묶어서 Dataset으로 변환한다.\n",
    "train = TensorDataset(x_train_seq, y_train_seq)\n",
    "test = TensorDataset(x_test_seq, y_test_seq)\n",
    "\n",
    "batch_size = 20\n",
    "# 배치 형태로 만들어 주기\n",
    "train_loader = DataLoader(dataset=train, batch_size=batch_size, shuffle=True) # 학습은 섞어야 일반화에 유리함\n",
    "test_loader = DataLoader(dataset=test, batch_size=batch_size, shuffle=False)"
   ]
  },
  {
   "cell_type": "markdown",
   "id": "74869576",
   "metadata": {},
   "source": [
    "#### Hyperparameter 설정"
   ]
  },
  {
   "cell_type": "code",
   "execution_count": 25,
   "id": "4a0b8bc0",
   "metadata": {},
   "outputs": [],
   "source": [
    "# RNN\n",
    "input_size = x_seq.size(2) # 4개의 특징값\n",
    "num_layers = 2 # RNN 층은 2겹\n",
    "hidden_size = 8 # 은닉층의 노드 수\n",
    "\n",
    "# rnn layers나 hidden layers가 커지게 되면 과적합 될 가능성이 있으므로 너무 크지 않게 설정"
   ]
  },
  {
   "cell_type": "markdown",
   "id": "2bf894cc",
   "metadata": {},
   "source": [
    "#### 모델 구축"
   ]
  },
  {
   "cell_type": "markdown",
   "id": "353504c7",
   "metadata": {},
   "source": [
    "##### LSTM"
   ]
  },
  {
   "cell_type": "code",
   "execution_count": 13,
   "id": "f44102f0",
   "metadata": {},
   "outputs": [],
   "source": [
    "class LSTM(nn.Module):\n",
    "  def __init__(self, input_size, hidden_size, sequence_length, num_layers, device):\n",
    "    super(LSTM, self).__init__()\n",
    "\n",
    "    self.device = device\n",
    "    self.hidden_size = hidden_size\n",
    "    self.num_layers = num_layers\n",
    "    # self.rnn = nn.RNN(input_size, hidden_size, num_layers, batch_first=True)\n",
    "    self.lstm = nn.LSTM(input_size, hidden_size, num_layers, batch_first=True)\n",
    "    self.fc = nn.Linear(hidden_size*sequence_length, 1)\n",
    "      \n",
    "  def forward(self, x): # 추후 x 자리에 seq가 들어가게 된다.\n",
    "    h0 = torch.zeros(self.num_layers, x.size()[0], self.hidden_size).to(self.device) # 초기 hidden state를 전부 0으로 설정\n",
    "    c0 = torch.zeros(self.num_layers, x.size()[0], self.hidden_size).to(self.device) # 초기 cell state를 전부 0으로 설정\n",
    "    out, _ = self.lstm(x, (h0, c0)) # cell state와 hidden state만 반환\n",
    "    out = out.reshape(out.shape[0], -1) # many to many 전략\n",
    "    out = self.fc(out)\n",
    "    \n",
    "    return out"
   ]
  },
  {
   "cell_type": "markdown",
   "id": "851ea730",
   "metadata": {},
   "source": [
    "#### GRU"
   ]
  },
  {
   "cell_type": "code",
   "execution_count": 28,
   "id": "f9993d11",
   "metadata": {},
   "outputs": [],
   "source": [
    "class GRU(nn.Module):\n",
    "  def __init__(self, input_size, hidden_size, sequence_length, num_layers, device):\n",
    "    super(GRU, self).__init__()\n",
    "\n",
    "    self.device = device\n",
    "    self.hidden_size = hidden_size\n",
    "    self.num_layers = num_layers\n",
    "    # self.rnn = nn.RNN(input_size, hidden_size, num_layers, batch_first=True)\n",
    "    # self.lstm = nn.LSTM(input_size, hidden_size, num_layers, batch_first=True)\n",
    "    self.gru = nn.GRU(input_size, hidden_size, num_layers, batch_first=True)\n",
    "    self.fc = nn.Linear(hidden_size*sequence_length, 1)\n",
    "      \n",
    "  def forward(self, x): # 추후 x 자리에 seq가 들어가게 된다.\n",
    "    h0 = torch.zeros(self.num_layers, x.size()[0], self.hidden_size).to(self.device) # 초기 hidden state를 전부 0으로 설정\n",
    "    out, _ = self.gru(x, h0) # cell state와 hidden state만 반환\n",
    "    out = out.reshape(out.shape[0], -1) # many to many 전략\n",
    "    out = self.fc(out)\n",
    "    \n",
    "    return out"
   ]
  },
  {
   "cell_type": "code",
   "execution_count": 29,
   "id": "fcf1a807",
   "metadata": {},
   "outputs": [
    {
     "data": {
      "text/plain": [
       "GRU(\n",
       "  (gru): GRU(4, 8, num_layers=2, batch_first=True)\n",
       "  (fc): Linear(in_features=40, out_features=1, bias=True)\n",
       ")"
      ]
     },
     "execution_count": 29,
     "metadata": {},
     "output_type": "execute_result"
    }
   ],
   "source": [
    "model = GRU(input_size=input_size, \n",
    "            hidden_size=hidden_size, \n",
    "            sequence_length=sequence_length, \n",
    "            num_layers=num_layers, \n",
    "            device=device)\n",
    "\n",
    "model.to(device) # MPS로 이동"
   ]
  },
  {
   "cell_type": "code",
   "execution_count": 30,
   "id": "9569f757",
   "metadata": {},
   "outputs": [],
   "source": [
    "criterion = nn.MSELoss() # 값을 예측하는 것이기 때문에 손실함수 MSE를 사용한다.\n",
    "\n",
    "lr = 1e-3\n",
    "num_epochs = 200 \n",
    "optimizer = optim.Adam(model.parameters(), lr=lr) # 옵티마이저: Adam"
   ]
  },
  {
   "cell_type": "markdown",
   "id": "f3f95148",
   "metadata": {},
   "source": [
    "#### 모델 학습하기"
   ]
  },
  {
   "cell_type": "code",
   "execution_count": 31,
   "id": "e4d5dc80",
   "metadata": {},
   "outputs": [
    {
     "name": "stderr",
     "output_type": "stream",
     "text": [
      "  0%|          | 0/200 [00:00<?, ?it/s]0.00s - Debugger warning: It seems that frozen modules are being used, which may\n",
      "0.00s - make the debugger miss breakpoints. Please pass -Xfrozen_modules=off\n",
      "0.00s - to python to disable frozen modules.\n",
      "0.00s - Note: Debugging will proceed. Set PYDEVD_DISABLE_FILE_VALIDATION=1 to disable this validation.\n",
      "  0%|          | 1/200 [00:02<08:06,  2.44s/it]"
     ]
    },
    {
     "name": "stdout",
     "output_type": "stream",
     "text": [
      "[epoch: %d] loss: % %.4f %(epoch, running_loss/n)\n"
     ]
    },
    {
     "name": "stderr",
     "output_type": "stream",
     "text": [
      "  6%|▌         | 11/200 [00:04<00:43,  4.30it/s]"
     ]
    },
    {
     "name": "stdout",
     "output_type": "stream",
     "text": [
      "[epoch: %d] loss: % %.4f %(epoch, running_loss/n)\n"
     ]
    },
    {
     "name": "stderr",
     "output_type": "stream",
     "text": [
      " 10%|█         | 21/200 [00:06<00:37,  4.72it/s]"
     ]
    },
    {
     "name": "stdout",
     "output_type": "stream",
     "text": [
      "[epoch: %d] loss: % %.4f %(epoch, running_loss/n)\n"
     ]
    },
    {
     "name": "stderr",
     "output_type": "stream",
     "text": [
      " 16%|█▌        | 31/200 [00:08<00:35,  4.72it/s]"
     ]
    },
    {
     "name": "stdout",
     "output_type": "stream",
     "text": [
      "[epoch: %d] loss: % %.4f %(epoch, running_loss/n)\n"
     ]
    },
    {
     "name": "stderr",
     "output_type": "stream",
     "text": [
      " 20%|██        | 41/200 [00:11<00:33,  4.72it/s]"
     ]
    },
    {
     "name": "stdout",
     "output_type": "stream",
     "text": [
      "[epoch: %d] loss: % %.4f %(epoch, running_loss/n)\n"
     ]
    },
    {
     "name": "stderr",
     "output_type": "stream",
     "text": [
      " 26%|██▌       | 51/200 [00:13<00:31,  4.70it/s]"
     ]
    },
    {
     "name": "stdout",
     "output_type": "stream",
     "text": [
      "[epoch: %d] loss: % %.4f %(epoch, running_loss/n)\n"
     ]
    },
    {
     "name": "stderr",
     "output_type": "stream",
     "text": [
      " 30%|███       | 61/200 [00:15<00:29,  4.71it/s]"
     ]
    },
    {
     "name": "stdout",
     "output_type": "stream",
     "text": [
      "[epoch: %d] loss: % %.4f %(epoch, running_loss/n)\n"
     ]
    },
    {
     "name": "stderr",
     "output_type": "stream",
     "text": [
      " 36%|███▌      | 71/200 [00:17<00:27,  4.74it/s]"
     ]
    },
    {
     "name": "stdout",
     "output_type": "stream",
     "text": [
      "[epoch: %d] loss: % %.4f %(epoch, running_loss/n)\n"
     ]
    },
    {
     "name": "stderr",
     "output_type": "stream",
     "text": [
      " 40%|████      | 81/200 [00:19<00:25,  4.67it/s]"
     ]
    },
    {
     "name": "stdout",
     "output_type": "stream",
     "text": [
      "[epoch: %d] loss: % %.4f %(epoch, running_loss/n)\n"
     ]
    },
    {
     "name": "stderr",
     "output_type": "stream",
     "text": [
      " 46%|████▌     | 91/200 [00:21<00:23,  4.71it/s]"
     ]
    },
    {
     "name": "stdout",
     "output_type": "stream",
     "text": [
      "[epoch: %d] loss: % %.4f %(epoch, running_loss/n)\n"
     ]
    },
    {
     "name": "stderr",
     "output_type": "stream",
     "text": [
      " 50%|█████     | 101/200 [00:23<00:20,  4.72it/s]"
     ]
    },
    {
     "name": "stdout",
     "output_type": "stream",
     "text": [
      "[epoch: %d] loss: % %.4f %(epoch, running_loss/n)\n"
     ]
    },
    {
     "name": "stderr",
     "output_type": "stream",
     "text": [
      " 56%|█████▌    | 111/200 [00:25<00:18,  4.72it/s]"
     ]
    },
    {
     "name": "stdout",
     "output_type": "stream",
     "text": [
      "[epoch: %d] loss: % %.4f %(epoch, running_loss/n)\n"
     ]
    },
    {
     "name": "stderr",
     "output_type": "stream",
     "text": [
      " 60%|██████    | 121/200 [00:28<00:16,  4.71it/s]"
     ]
    },
    {
     "name": "stdout",
     "output_type": "stream",
     "text": [
      "[epoch: %d] loss: % %.4f %(epoch, running_loss/n)\n"
     ]
    },
    {
     "name": "stderr",
     "output_type": "stream",
     "text": [
      " 66%|██████▌   | 131/200 [00:30<00:14,  4.73it/s]"
     ]
    },
    {
     "name": "stdout",
     "output_type": "stream",
     "text": [
      "[epoch: %d] loss: % %.4f %(epoch, running_loss/n)\n"
     ]
    },
    {
     "name": "stderr",
     "output_type": "stream",
     "text": [
      " 70%|███████   | 141/200 [00:32<00:12,  4.68it/s]"
     ]
    },
    {
     "name": "stdout",
     "output_type": "stream",
     "text": [
      "[epoch: %d] loss: % %.4f %(epoch, running_loss/n)\n"
     ]
    },
    {
     "name": "stderr",
     "output_type": "stream",
     "text": [
      " 76%|███████▌  | 151/200 [00:34<00:10,  4.73it/s]"
     ]
    },
    {
     "name": "stdout",
     "output_type": "stream",
     "text": [
      "[epoch: %d] loss: % %.4f %(epoch, running_loss/n)\n"
     ]
    },
    {
     "name": "stderr",
     "output_type": "stream",
     "text": [
      " 80%|████████  | 161/200 [00:36<00:08,  4.75it/s]"
     ]
    },
    {
     "name": "stdout",
     "output_type": "stream",
     "text": [
      "[epoch: %d] loss: % %.4f %(epoch, running_loss/n)\n"
     ]
    },
    {
     "name": "stderr",
     "output_type": "stream",
     "text": [
      " 86%|████████▌ | 171/200 [00:38<00:06,  4.73it/s]"
     ]
    },
    {
     "name": "stdout",
     "output_type": "stream",
     "text": [
      "[epoch: %d] loss: % %.4f %(epoch, running_loss/n)\n"
     ]
    },
    {
     "name": "stderr",
     "output_type": "stream",
     "text": [
      " 90%|█████████ | 181/200 [00:40<00:03,  4.76it/s]"
     ]
    },
    {
     "name": "stdout",
     "output_type": "stream",
     "text": [
      "[epoch: %d] loss: % %.4f %(epoch, running_loss/n)\n"
     ]
    },
    {
     "name": "stderr",
     "output_type": "stream",
     "text": [
      " 96%|█████████▌| 191/200 [00:42<00:01,  4.67it/s]"
     ]
    },
    {
     "name": "stdout",
     "output_type": "stream",
     "text": [
      "[epoch: %d] loss: % %.4f %(epoch, running_loss/n)\n"
     ]
    },
    {
     "name": "stderr",
     "output_type": "stream",
     "text": [
      "100%|██████████| 200/200 [00:44<00:00,  4.45it/s]\n"
     ]
    }
   ],
   "source": [
    "# 기본적인 메카니즘은 지도 학습이기 때문에 CNN과 유사하다.\n",
    "loss_graph = []\n",
    "n = len(train_loader)\n",
    "pbar = trange(num_epochs)\n",
    "\n",
    "for epoch in pbar:\n",
    "    running_loss = 0.0 # 에폭 수 만큼 반복하면서 손실값 누적\n",
    "    \n",
    "    for data in train_loader:\n",
    "        \n",
    "        seq, target = data # 배치 데이터 \n",
    "        out = model(seq) # 모델에 입력 -> 예측\n",
    "        loss = criterion(out, target) # -> 손실 계산\n",
    "        \n",
    "        optimizer.zero_grad() # 경사 초기화\n",
    "        loss.backward() # 역전파\n",
    "        optimizer.step() # 매개변수 업데이트\n",
    "        running_loss += loss.item()\n",
    "    \n",
    "    loss_graph.append(running_loss/n)\n",
    "\n",
    "    if epoch % 10 == 0:\n",
    "        print('[epoch: %d] loss: % %.4f %(epoch, running_loss/n)')"
   ]
  },
  {
   "cell_type": "code",
   "execution_count": 34,
   "id": "45124e06",
   "metadata": {},
   "outputs": [
    {
     "data": {
      "image/png": "[encoded data removed]",
      "text/plain": [
       "<Figure size 1600x800 with 1 Axes>"
      ]
     },
     "metadata": {},
     "output_type": "display_data"
    }
   ],
   "source": [
    "plt.figure(figsize=(16,8))\n",
    "plt.plot(loss_graph) # epoch 마다 loss를 그려서 모델이 잘 학습됐는지 시각적으로 확인\n",
    "plt.ylabel('loss')\n",
    "plt.xlabel('epoch')\n",
    "plt.show()"
   ]
  },
  {
   "cell_type": "code",
   "execution_count": 35,
   "id": "f22df700",
   "metadata": {},
   "outputs": [
    {
     "data": {
      "image/png": "[encoded data removed]",
      "text/plain": [
       "<Figure size 1600x800 with 1 Axes>"
      ]
     },
     "metadata": {},
     "output_type": "display_data"
    }
   ],
   "source": [
    "def plotting(train_loader, test_loader, actual):\n",
    "    with torch.no_grad(): # 예측할 때에는 gradient 계산할 필요 없음\n",
    "        train_pred = []\n",
    "        test_pred = []\n",
    "        model.eval()\n",
    "\n",
    "        for data in train_loader:\n",
    "            seq, target = data # 배치 데이터\n",
    "            out = model(seq)\n",
    "            train_pred += out.cpu().numpy().tolist() \n",
    "            # GPU나 MPS같은 가속 장치에서 처리된 텐서를 CPU로 옮겨서 시각화나 결과 저장 등에 사용하기 위해 변환\n",
    "            # pyTorch에서 텐서를 .numpy()로 변환할 때는 텐서가 반드시 CPU에 있어야한다.\n",
    "            \n",
    "        for data in test_loader:\n",
    "            seq, target = data # 배치 데이터 \n",
    "            out = model(seq)\n",
    "            test_pred += out.cpu().numpy().tolist()\n",
    "\n",
    "    total = train_pred+test_pred    \n",
    "       \n",
    "    plt.figure(figsize=(16,8))\n",
    "    plt.plot(np.ones(100)*len(train_pred),np.linspace(0,1,100),'--', linewidth=0.6)\n",
    "    plt.plot(actual,'--')\n",
    "    plt.plot(total,'b', linewidth=0.6)  \n",
    "    plt.legend(['train boundary','actual','prediction'])\n",
    "    plt.show() \n",
    "\n",
    "train_loader = DataLoader(dataset=train, batch_size=batch_size, shuffle=False)\n",
    "plotting(train_loader, test_loader, df['Close'][sequence_length:].values)        "
   ]
  },
  {
   "cell_type": "markdown",
   "id": "a5310996",
   "metadata": {},
   "source": [
    "LSTM -> shift 현상이 일어나고 급락하는 구간을 정확히 예측하지는 못했지만 얼추 맞다. 더 정확히 고려하기 위해서는 더 많은 요소를 고려해야 한다. \n",
    "\n",
    "GRU -> 급락하는 지점을 더 깊게 예측할 수 있었다. 하지만 여전히 shift 현상이있다. 이럴 경우에 smoothing(선을 좀 더 부드럽게 해주는 작업)처리를 해주거나 1일치만 계산하지 말고 2~3일씩 벡터를 늘려서 계산하면 개선할 수 있다."
   ]
  }
 ],
 "metadata": {
  "kernelspec": {
   "display_name": "base",
   "language": "python",
   "name": "python3"
  },
  "language_info": {
   "codemirror_mode": {
    "name": "ipython",
    "version": 3
   },
   "file_extension": ".py",
   "mimetype": "text/x-python",
   "name": "python",
   "nbconvert_exporter": "python",
   "pygments_lexer": "ipython3",
   "version": "3.12.7"
  }
 },
 "nbformat": 4,
 "nbformat_minor": 5
}
