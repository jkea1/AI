{
 "cells": [
  {
   "cell_type": "markdown",
   "id": "7b94e6ac",
   "metadata": {},
   "source": [
    "### CNN을 이용한 분류 (CIFAR10)\n",
    "\n",
    "합성곱 신경망(Convolutional Neural Network)를 이용한 이미지 분류\n",
    "\n",
    "cnn_1 과는 다르게 Sequential을 사용하여 좀 더 모델을 깔끔하게 구축가능하다. 차례대로 진행한 연산을(Conv -> ReLU -> ..) 묶어서 표현 가능하다. 이 방법을 더 많이 선호한다."
   ]
  },
  {
   "cell_type": "code",
   "execution_count": null,
   "id": "b7b251ee",
   "metadata": {},
   "outputs": [
    {
     "name": "stdout",
     "output_type": "stream",
     "text": [
      "MPS 장치를 지원하도록 build가 되었는가? True\n",
      "MPS 장치가 사용 가능한가? True\n",
      "mps is available.\n"
     ]
    }
   ],
   "source": [
    "import torch\n",
    "print(f\"MPS 장치를 지원하도록 build가 되었는가? {torch.backends.mps.is_built()}\")\n",
    "print(f\"MPS 장치가 사용 가능한가? {torch.backends.mps.is_available()}\")\n",
    "import torchvision.datasets as datasets\n",
    "import torchvision.transforms as transforms\n",
    "from torch.utils.data import DataLoader\n",
    "import torch.nn as nn\n",
    "import torch.nn.functional as F\n",
    "import torch.optim as optim\n",
    "import matplotlib.pyplot as plt\n",
    "from tqdm import trange # for문의 진행 상황을 bar 형태로 출력"
   ]
  },
  {
   "cell_type": "code",
   "execution_count": 15,
   "id": "cd170d8a",
   "metadata": {},
   "outputs": [],
   "source": [
    "# CIFAR10: 클래스 10개를 가진 이미지 데이터\n",
    "# 'plane', 'car', 'bird', 'cat', 'deer', 'dog', 'frog', 'horse', 'ship', 'truck'\n",
    "\n",
    "transform = transforms.Compose(\n",
    "    [transforms.ToTensor(),\n",
    "     transforms.Normalize((0.5, 0.5, 0.5), (0.5, 0.5, 0.5))])\n",
    "\n",
    "trainset = datasets.CIFAR10(root='./data', train=True,\n",
    "                                        download=True, transform=transform)\n",
    "\n",
    "trainloader = DataLoader(trainset, batch_size=32, shuffle=True) \n",
    "\n",
    "testset = datasets.CIFAR10(root='./data', train=False,\n",
    "                                       download=True, transform=transform)\n",
    "testloader = DataLoader(testset, batch_size=32, shuffle=False)"
   ]
  },
  {
   "cell_type": "code",
   "execution_count": 20,
   "id": "b6a9de85",
   "metadata": {},
   "outputs": [
    {
     "name": "stdout",
     "output_type": "stream",
     "text": [
      "mps is available.\n"
     ]
    }
   ],
   "source": [
    "# CPU/GPU\n",
    "device = torch.device(\"mps\" if torch.backends.mps.is_available() else \"cpu\")\n",
    "\n",
    "print(f'{device} is available.')"
   ]
  },
  {
   "cell_type": "markdown",
   "id": "4af62896",
   "metadata": {},
   "source": [
    "### 2. CNN 모델 구축"
   ]
  },
  {
   "cell_type": "code",
   "execution_count": null,
   "id": "25686ba6",
   "metadata": {},
   "outputs": [],
   "source": [
    "class CNN(nn.Module):\n",
    "    def __init__(self):\n",
    "        super(CNN, self).__init__()\n",
    "        self.feature_extraction = nn.Sequential(nn.Conv2d(3, 6, 5), \n",
    "                                                nn.ReLU(),\n",
    "                                                nn.MaxPool2d(2, 2), \n",
    "                                                nn.Conv2d(6, 16, 5),\n",
    "                                                nn.ReLU(),\n",
    "                                                nn.MaxPool2d(2, 2))\n",
    "        \n",
    "        self.classifier = nn.Sequential(nn.Linear(16 * 5 * 5, 120),\n",
    "                                        nn.ReLU(),\n",
    "                                        nn.Linear(120, 10))\n",
    "                                        \n",
    "    def forward(self, x):\n",
    "        x = self.feature_extraction(x)\n",
    "        x = x.view(-1, 16 * 5 * 5) # 5x5 피쳐맵 16개를 일렬로 만든다.\n",
    "        x = self.classifier(x)\n",
    "\n",
    "        return x"
   ]
  },
  {
   "cell_type": "code",
   "execution_count": null,
   "id": "8a57d6b8",
   "metadata": {},
   "outputs": [
    {
     "name": "stdout",
     "output_type": "stream",
     "text": [
      "CNN(\n",
      "  (conv1): Conv2d(3, 6, kernel_size=(5, 5), stride=(1, 1))\n",
      "  (pool1): MaxPool2d(kernel_size=2, stride=2, padding=0, dilation=1, ceil_mode=False)\n",
      "  (conv2): Conv2d(6, 16, kernel_size=(5, 5), stride=(1, 1))\n",
      "  (pool2): MaxPool2d(kernel_size=2, stride=2, padding=0, dilation=1, ceil_mode=False)\n",
      "  (fc1): Linear(in_features=400, out_features=120, bias=True)\n",
      "  (fc2): Linear(in_features=120, out_features=10, bias=True)\n",
      ")\n"
     ]
    }
   ],
   "source": [
    "net = CNN().to(device) # 모델 선언, to(device)로 GPU에서 연산할 수 있도록한다.\n",
    "\n",
    "print(net)\n",
    "# 피쳐의 크기: 32 -> 28 ->14 -> 10 -> 5"
   ]
  },
  {
   "cell_type": "markdown",
   "id": "2115f212",
   "metadata": {},
   "source": [
    "### 3. CNN 모델 학습하기"
   ]
  },
  {
   "cell_type": "code",
   "execution_count": null,
   "id": "ed3f816b",
   "metadata": {},
   "outputs": [],
   "source": [
    "# 분류 문제에서는 CrossEntropyLoss를 사용한다.\n",
    "# SGD(확률적 경사 하강법)(Stochastic Gradient Descent)으로 파라미터를 업데이트한다.\n",
    "\n",
    "criterion = nn.CrossEntropyLoss() # CrossEntropyLoss는 softmax 계산까지 포함되어 있으므로 모델의 마지막 output node에 별도의 활성화 함수를 사용하지 않아도 된다.\n",
    "optimizer = optim.SGD(net.parameters(), lr=1e-3, momentum=0.9)"
   ]
  },
  {
   "cell_type": "code",
   "execution_count": null,
   "id": "e862c706",
   "metadata": {},
   "outputs": [
    {
     "name": "stderr",
     "output_type": "stream",
     "text": [
      "100%|██████████| 10/10 [01:27<00:00,  8.76s/it, epoch=10, loss=1.09]\n"
     ]
    }
   ],
   "source": [
    "# 모델의 학습 과정인 인공 신경망과 동일하다.\n",
    "\n",
    "loss_ = [] # 그래프를 그리기 위한 loss 저장용 리스트 \n",
    "n = len(trainloader) # 배치 개수\n",
    "num_epochs = 10\n",
    "pbar = trange(num_epochs)\n",
    "\n",
    "for epoch in pbar:  # 10번 학습을 진행한다.\n",
    "\n",
    "    running_loss = 0.0\n",
    "    for data in trainloader:\n",
    "\n",
    "        inputs, labels = data[0].to(device), data[1].to(device) # 배치 데이터 \n",
    "        \n",
    "        optimizer.zero_grad()\n",
    "\n",
    "        outputs = net(inputs) # 예측값 산출 \n",
    "        loss = criterion(outputs, labels) # 손실함수 계산\n",
    "        loss.backward() # 손실함수 기준으로 역전파 선언\n",
    "        optimizer.step() # 가중치 최적화\n",
    "\n",
    "        # print statistics\n",
    "        running_loss += loss.item()\n",
    "\n",
    "    l = running_loss/n\n",
    "    loss_.append(l)   \n",
    "    pbar.set_postfix({'epoch': epoch+1, 'loss' : l}) \n",
    "    "
   ]
  },
  {
   "cell_type": "code",
   "execution_count": 25,
   "id": "9916fe7a",
   "metadata": {},
   "outputs": [
    {
     "data": {
      "image/png": "[encoded data removed]",
      "text/plain": [
       "<Figure size 800x400 with 1 Axes>"
      ]
     },
     "metadata": {},
     "output_type": "display_data"
    }
   ],
   "source": [
    "plt.figure(figsize=(8, 4))\n",
    "plt.plot(loss_, '-*')\n",
    "plt.title(\"Training Loss\")\n",
    "plt.xlabel(\"epoch\")\n",
    "plt.show()"
   ]
  },
  {
   "cell_type": "markdown",
   "id": "7b15b817",
   "metadata": {},
   "source": [
    "#### 4. 모델 저장하기"
   ]
  },
  {
   "cell_type": "code",
   "execution_count": 26,
   "id": "cbe1b938",
   "metadata": {},
   "outputs": [],
   "source": [
    "PATH = './models/cifar_net.pth' # 모델 저장 경로 \n",
    "torch.save(net.state_dict(), PATH) # 모델 저장"
   ]
  },
  {
   "cell_type": "markdown",
   "id": "7e60fa94",
   "metadata": {},
   "source": [
    "#### 5. 모델 불러오기"
   ]
  },
  {
   "cell_type": "code",
   "execution_count": null,
   "id": "a88a03f6",
   "metadata": {},
   "outputs": [
    {
     "data": {
      "text/plain": [
       "<All keys matched successfully>"
      ]
     },
     "execution_count": 27,
     "metadata": {},
     "output_type": "execute_result"
    }
   ],
   "source": [
    "# 모델 불러오기는 엄밀히 말하자면 모델의 파라메타를 불러오는 것이다. 따라서 모델의 뼈대를 먼저 선언하고\n",
    "# 모델의 파라메타를 불러와 pretrained model을 만든다.\n",
    "\n",
    "net = CNN().to(device) # 모델 선언, GPU로 우리가 세팅을 했기 때문에 여기서도 GPU용 모델로 만들어줘야 한다.\n",
    "net.load_state_dict(torch.load(PATH)) # 모델 파라메타를 불러와서 덮어 씌운다는 개념이다."
   ]
  },
  {
   "cell_type": "markdown",
   "id": "cd601568",
   "metadata": {},
   "source": [
    "#### 6. 모델 정확도(Accuracy) 구하기"
   ]
  },
  {
   "cell_type": "code",
   "execution_count": null,
   "id": "33a5c3d0",
   "metadata": {},
   "outputs": [
    {
     "name": "stdout",
     "output_type": "stream",
     "text": [
      "Accuracy of the network on the 10000 test images: 59 %\n"
     ]
    }
   ],
   "source": [
    "# 평가 데이터를 이용해 정확도를 구해보자.\n",
    "# output은 미니배치의 결과가 산출되기 때문에 for문을 통해서 test 전체의 예측값을 구한다.\n",
    "\n",
    "correct = 0\n",
    "total = 0\n",
    "\n",
    "with torch.no_grad(): # 업데이트 없이 예측만 하기 때문에 gradient를 계산할 필요가 없다.\n",
    "    net.eval() # 평가모드로 전환, 평가모드로 전환하면 dropout과 batch normalization이 동작하지 않는다.\n",
    "\n",
    "    for data in testloader:\n",
    "        images, labels = data[0].to(device), data[1].to(device)\n",
    "        outputs = net(images)\n",
    "        _, predicted = torch.max(outputs.data, 1)\n",
    "        total += labels.size(0) # 개수 누적(총 개수)\n",
    "        correct += (predicted == labels).sum().item() # 누적(맞으면 1, 틀리면 0으로 합산)\n",
    "        \n",
    "print('Accuracy of the network on the 10000 test images: %d %%' % (100 * correct / total)) # 만개 중 60% 맞췄다."
   ]
  }
 ],
 "metadata": {
  "kernelspec": {
   "display_name": "base",
   "language": "python",
   "name": "python3"
  },
  "language_info": {
   "codemirror_mode": {
    "name": "ipython",
    "version": 3
   },
   "file_extension": ".py",
   "mimetype": "text/x-python",
   "name": "python",
   "nbconvert_exporter": "python",
   "pygments_lexer": "ipython3",
   "version": "3.12.7"
  }
 },
 "nbformat": 4,
 "nbformat_minor": 5
}
