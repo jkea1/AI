{
 "cells": [
  {
   "cell_type": "markdown",
   "metadata": {
    "id": "c1l9vgjKDRNw"
   },
   "source": [
    "# RepVGG\n",
    "[Reference : Xiaohan Ding, Xiangyu Zhang, Ningning Ma, Jungong Han, Guiguang Ding, and Jian Sun (2021) \"RepVGG: Making VGG-Style ConvNets Great Again\", CVPR2021](https://openaccess.thecvf.com/content/CVPR2021/papers/Ding_RepVGG_Making_VGG-Style_ConvNets_Great_Again_CVPR_2021_paper.pdf)"
   ]
  },
  {
   "cell_type": "code",
   "execution_count": 1,
   "metadata": {
    "colab": {
     "base_uri": "https://localhost:8080/"
    },
    "executionInfo": {
     "elapsed": 30226,
     "status": "ok",
     "timestamp": 1683552375320,
     "user": {
      "displayName": "딥러닝호형",
      "userId": "11263585794403583722"
     },
     "user_tz": -120
    },
    "id": "ZWpn0YuaY1QH",
    "outputId": "92d05a4a-75ca-496e-db53-0eea23a9a65b"
   },
   "outputs": [
    {
     "name": "stdout",
     "output_type": "stream",
     "text": [
      "Mounted at /content/gdrive\n"
     ]
    }
   ],
   "source": [
    "from google.colab import drive\n",
    "drive.mount('/content/gdrive')"
   ]
  },
  {
   "cell_type": "code",
   "execution_count": 4,
   "metadata": {
    "colab": {
     "base_uri": "https://localhost:8080/"
    },
    "executionInfo": {
     "elapsed": 918,
     "status": "ok",
     "timestamp": 1683552578575,
     "user": {
      "displayName": "딥러닝호형",
      "userId": "11263585794403583722"
     },
     "user_tz": -120
    },
    "id": "8xzqirmSY3m3",
    "outputId": "64de43e1-3a35-4c26-9c91-731a73f91268"
   },
   "outputs": [
    {
     "name": "stdout",
     "output_type": "stream",
     "text": [
      "/content/gdrive/My Drive/deeplearningbrov2/pytorch/advanced/RepVGG\n"
     ]
    }
   ],
   "source": [
    "cd/content/gdrive/My Drive/deeplearningbrov2/pytorch/advanced/RepVGG"
   ]
  },
  {
   "cell_type": "code",
   "execution_count": null,
   "metadata": {
    "colab": {
     "base_uri": "https://localhost:8080/"
    },
    "executionInfo": {
     "elapsed": 2207128,
     "status": "ok",
     "timestamp": 1679234940660,
     "user": {
      "displayName": "딥러닝호형",
      "userId": "11263585794403583722"
     },
     "user_tz": -60
    },
    "id": "HrfnEH95Gief",
    "outputId": "ad9aad15-6402-485a-906c-aad61d51475f"
   },
   "outputs": [
    {
     "name": "stdout",
     "output_type": "stream",
     "text": [
      "Namespace(batch_size=128, num_epochs=51, num_classes=10, lr=0.001, l2=0.0001, mode='train')\n",
      "Files already downloaded and verified\n",
      "100% 51/51 [36:37<00:00, 43.09s/it, loss=0.0709, bep=50]\n"
     ]
    }
   ],
   "source": [
    "!python main.py"
   ]
  },
  {
   "cell_type": "code",
   "execution_count": null,
   "metadata": {
    "colab": {
     "base_uri": "https://localhost:8080/"
    },
    "id": "iNgT2jo675zA",
    "outputId": "165cb869-5a07-48f8-93b8-66a716b47828"
   },
   "outputs": [
    {
     "name": "stdout",
     "output_type": "stream",
     "text": [
      "Namespace(batch_size=128, num_epochs=51, num_classes=10, lr=0.001, mode='infernce')\n",
      "Downloading https://www.cs.toronto.edu/~kriz/cifar-10-python.tar.gz to ./data/cifar-10-python.tar.gz\n",
      "100% 170498071/170498071 [00:13<00:00, 12966549.07it/s]\n",
      "Extracting ./data/cifar-10-python.tar.gz to ./data\n"
     ]
    }
   ],
   "source": [
    "!python main.py --mode 'infernce'"
   ]
  },
  {
   "cell_type": "code",
   "execution_count": null,
   "metadata": {
    "id": "ympqTwPtNLUl"
   },
   "outputs": [],
   "source": []
  }
 ],
 "metadata": {
  "accelerator": "GPU",
  "colab": {
   "authorship_tag": "ABX9TyM8JpNfJN+hbbJcm1Jrt608",
   "provenance": []
  },
  "kernelspec": {
   "display_name": "Python 3",
   "name": "python3"
  }
 },
 "nbformat": 4,
 "nbformat_minor": 0
}
