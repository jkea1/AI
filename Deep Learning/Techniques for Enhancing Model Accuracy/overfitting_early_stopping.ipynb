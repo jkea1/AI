{
 "cells": [
  {
   "cell_type": "markdown",
   "id": "e3e7f9fb",
   "metadata": {},
   "source": [
    "### Early Stopping\n",
    "모델의 성능이 가장 잘 나오는데 까지(validation data에 의한 손실 함수의 값이 가장 낮은 지점까지) 시험 데이터를 학습을 시키고 학습을 멈춘다.\n",
    "\n",
    "하지만 주의해야 할 부분이 손실함수의 값과 정확도가 정확히 반비례 관계는 아니다.\n",
    "\n",
    "그리고 validation data의 정확도가 높다고 해서 test data의 정확도가 높은 것도 아니다. validation data를 기준으로 best model을 정하지만 이게 베스트라는 것은 보장이 안된다.\n",
    "\n",
    "또한, Early Stopping을 사용할 때에는 절대로 테스트 데이터를 사용 하면 안된다."
   ]
  },
  {
   "cell_type": "code",
   "execution_count": 1,
   "id": "0a39f1f1",
   "metadata": {},
   "outputs": [],
   "source": [
    "import torch\n",
    "import torchvision\n",
    "import torchvision.transforms as transforms\n",
    "from torch.utils.data import DataLoader\n",
    "import torch.nn as nn\n",
    "import torch.nn.functional as F\n",
    "import torch.optim as optim\n",
    "import matplotlib.pyplot as plt\n",
    "from tqdm import trange"
   ]
  },
  {
   "cell_type": "code",
   "execution_count": 2,
   "id": "5ad9e150",
   "metadata": {},
   "outputs": [],
   "source": [
    "train_transform = transforms.Compose(\n",
    "    [transforms.RandomCrop(32, padding=4),\n",
    "     transforms.ToTensor(),\n",
    "     transforms.Normalize((0.5, 0.5, 0.5), (0.5, 0.5, 0.5))])\n",
    "\n",
    "transform = transforms.Compose(\n",
    "    [transforms.ToTensor(),\n",
    "     transforms.Normalize((0.5, 0.5, 0.5), (0.5, 0.5, 0.5))])\n",
    "\n",
    "dataset = torchvision.datasets.CIFAR10(root='./data', train=True,\n",
    "                                        download=True, transform=train_transform)\n",
    "trainset, valset = torch.utils.data.random_split(dataset, [40000, 10000])\n",
    "trainloader = DataLoader(trainset, batch_size=32, shuffle=True)\n",
    "valloader = DataLoader(valset, batch_size=32, shuffle=False)"
   ]
  },
  {
   "cell_type": "code",
   "execution_count": 3,
   "id": "5e2e5c97",
   "metadata": {},
   "outputs": [],
   "source": [
    "testset = torchvision.datasets.CIFAR10(root='./data', train=False,\n",
    "                                       download=True, transform=transform)\n",
    "testloader = DataLoader(testset, batch_size=32, shuffle=False) # 10000장"
   ]
  },
  {
   "cell_type": "code",
   "execution_count": 4,
   "id": "feeabddb",
   "metadata": {},
   "outputs": [
    {
     "name": "stdout",
     "output_type": "stream",
     "text": [
      "mps is available.\n"
     ]
    }
   ],
   "source": [
    "# CPU/GPU\n",
    "device = torch.device(\"mps\" if torch.backends.mps.is_available() else \"cpu\")\n",
    "print(f'{device} is available.')"
   ]
  },
  {
   "cell_type": "code",
   "execution_count": 5,
   "id": "9236e026",
   "metadata": {},
   "outputs": [],
   "source": [
    "resnet = torchvision.models.resnet18(weights='DEFAULT')\n",
    "resnet.conv1 = nn.Conv2d(3, 64, kernel_size=(3, 3), stride=(1, 1), padding=(1, 1), bias=False)\n",
    "resnet.fc = nn.Linear(512, 10)\n",
    "resnet = resnet.to(device)"
   ]
  },
  {
   "cell_type": "code",
   "execution_count": 6,
   "id": "39dd1926",
   "metadata": {},
   "outputs": [],
   "source": [
    "#print(resnet)\n",
    "PATH = './models/cifar_resnet_early.pth' # 모델 저장 경로"
   ]
  },
  {
   "cell_type": "code",
   "execution_count": 7,
   "id": "a22c98dd",
   "metadata": {},
   "outputs": [],
   "source": [
    "criterion = nn.CrossEntropyLoss() # 분류용\n",
    "optimizer = optim.Adam(resnet.parameters(), lr=1e-4, weight_decay=1e-2)"
   ]
  },
  {
   "cell_type": "code",
   "execution_count": null,
   "id": "e1805f5c",
   "metadata": {},
   "outputs": [],
   "source": [
    "# validation_loss가 가장 작았을 때의 모델 가중치를 저장하는 용도이다.\n",
    "def validation_loss(dataloader):\n",
    "    n = len(dataloader)\n",
    "    running_loss = 0.0\n",
    "\n",
    "    with torch.no_grad(): # 검증 과정에서는 gradient 계산이 필요 없다.\n",
    "        resnet.eval() # 평가 모드\n",
    "\n",
    "        for data in dataloader:\n",
    "            images, labels = data[0].to(device), data[1].to(device)\n",
    "            outputs = resnet(images) # 아래단의 train 코드로 인해 학습된 모델이다.\n",
    "            loss = criterion(outputs, labels)\n",
    "            running_loss += loss.item()\n",
    "\n",
    "    resnet.train() # 다시 학습 모드로 전환\n",
    "    \n",
    "    return running_loss / n"
   ]
  },
  {
   "cell_type": "code",
   "execution_count": 9,
   "id": "19fdd3a2",
   "metadata": {},
   "outputs": [
    {
     "name": "stderr",
     "output_type": "stream",
     "text": [
      "100%|██████████| 40/40 [44:54<00:00, 67.36s/it, epoch=40, train loss=0.272, validation loss=0.449]\n"
     ]
    }
   ],
   "source": [
    "train_loss_list = [] # 그래프를 그리기 위한 loss 저장용 리스트\n",
    "val_loss_list = []\n",
    "n = len(trainloader) # 배치 개수\n",
    "early_stopping_loss = 1\n",
    "\n",
    "num_epochs = 40 # epoch 증가\n",
    "pbar = trange(num_epochs)\n",
    "\n",
    "for epoch in pbar:\n",
    "    running_loss = 0.0\n",
    "    \n",
    "    for data in trainloader:\n",
    "        inputs, labels = data[0].to(device), data[1].to(device) # 배치 데이터\n",
    "\n",
    "        optimizer.zero_grad()\n",
    "        outputs = resnet(inputs) # 예측값 산출\n",
    "        loss = criterion(outputs, labels) # 손실함수 계산\n",
    "        loss.backward() # 손실함수 기준으로 역전파 선언\n",
    "        optimizer.step() # 가중치 최적화\n",
    "\n",
    "        # print statistics\n",
    "        running_loss += loss.item()\n",
    "\n",
    "    train_loss = running_loss / n\n",
    "    train_loss_list.append(train_loss)\n",
    "\n",
    "    val_loss = validation_loss(valloader)\n",
    "    val_loss_list.append(val_loss)\n",
    "\n",
    "    pbar.set_postfix({'epoch': epoch + 1, 'train loss' : train_loss, 'validation loss' : val_loss})\n",
    "    \n",
    "    # 매 epoch마다 train loss와 validation loss를 기록하면서\n",
    "    # validation loss가 가장 낮아졌을 때의 모델을 저장하는 방식이야.\n",
    "\t# 실제로 early stopping을 “적용”하려면 일정 epoch 동안 개선이 없을 때 멈추는 조건도 추가할 수 있어.\n",
    "    \n",
    "    if val_loss < early_stopping_loss:\n",
    "        torch.save(resnet.state_dict(), PATH)\n",
    "        \n",
    "        early_stopping_train_loss = train_loss\n",
    "        early_stopping_loss = val_loss\n",
    "        early_stopping_epoch = epoch\n"
   ]
  },
  {
   "cell_type": "code",
   "execution_count": 10,
   "id": "3edf645c",
   "metadata": {},
   "outputs": [
    {
     "data": {
      "image/png": "[encoded data removed]",
      "text/plain": [
       "<Figure size 640x480 with 1 Axes>"
      ]
     },
     "metadata": {},
     "output_type": "display_data"
    }
   ],
   "source": [
    "plt.plot(train_loss_list)\n",
    "plt.plot(val_loss_list)\n",
    "plt.legend(['train','validation'])\n",
    "plt.title(\"Loss\")\n",
    "plt.xlabel(\"epoch\")\n",
    "plt.show()"
   ]
  },
  {
   "cell_type": "code",
   "execution_count": 11,
   "id": "6b32fbff",
   "metadata": {},
   "outputs": [
    {
     "data": {
      "text/plain": [
       "<All keys matched successfully>"
      ]
     },
     "execution_count": 11,
     "metadata": {},
     "output_type": "execute_result"
    }
   ],
   "source": [
    "# early stopping 시점의 최고 성능 모델을 복원하는 과정이야.\n",
    "resnet.load_state_dict(torch.load(PATH)) # 모델 파라메타 불러오기"
   ]
  },
  {
   "cell_type": "code",
   "execution_count": 12,
   "id": "1feff4e1",
   "metadata": {},
   "outputs": [
    {
     "name": "stdout",
     "output_type": "stream",
     "text": [
      "Test accuracy: 86.76 %\n"
     ]
    }
   ],
   "source": [
    "# 평가 데이터를 이용해 정확도를 구해보자.\n",
    "# output은 미니배치의 결과가 산출되기 때문에 for문을 통해서 test 전체의 예측값을 구한다.\n",
    "\n",
    "correct = 0 # 맞춘 개수 누적\n",
    "total = 0 # 전체 데이터 개수 누적\n",
    "\n",
    "with torch.no_grad(): # 평가 시에는 gradient 계산이 필요 없다.\n",
    "    resnet.eval()\n",
    "\n",
    "    for data in testloader:\n",
    "        images, labels = data[0].to(device), data[1].to(device)\n",
    "        outputs = resnet(images)\n",
    "        _, predicted = torch.max(outputs.data, 1) # 각 샘플별로 가장 큰 값을 가진 클래스 인덱스를 반환 (모델이 가장 확신하는 클래스를 예측값으로 선택)\n",
    "        total += labels.size(0) # 개수 누적(총 개수)\n",
    "        correct += (predicted == labels).sum().item() # 누적(맞으면 1, 틀리면 0으로 합산)\n",
    "\n",
    "print('Test accuracy: %.2f %%' % (100 * correct / total))\n",
    "\n",
    "# ResNet18 (overfitting): 85 %\n",
    "# ResNet18 (ealy stopping): 84.56 %"
   ]
  }
 ],
 "metadata": {
  "kernelspec": {
   "display_name": "base",
   "language": "python",
   "name": "python3"
  },
  "language_info": {
   "codemirror_mode": {
    "name": "ipython",
    "version": 3
   },
   "file_extension": ".py",
   "mimetype": "text/x-python",
   "name": "python",
   "nbconvert_exporter": "python",
   "pygments_lexer": "ipython3",
   "version": "3.12.7"
  }
 },
 "nbformat": 4,
 "nbformat_minor": 5
}
