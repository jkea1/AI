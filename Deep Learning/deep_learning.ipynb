{
 "cells": [
  {
   "cell_type": "markdown",
   "id": "8683c868",
   "metadata": {},
   "source": [
    "### Machine learning\n",
    "데이터를 기반으로 패턴을 학습하고, 학습한 내용을 바탕으로 예측이나 분류를 수행하는 알고리즘 총칭이다. 대표적인 알고리즘으로는, Linear Regression(선형 회귀), Decision Tree(의사결정나무), SVM(Support Vector Machine), KNN(K-Nearest Neighbors), Random Forest(랜덤 포레스트) 등이 있다.\n",
    "\n",
    "### Deep Learning\n",
    "머신러닝의 하위 분야로, 인공신경망을 이용해서 데이터에서 특징까지 스스로 추출하며 학습하는 방법이다. 예로는, 자연어 처리(RNN, LSTM, Transformer), 이미지 인식(CNN)가 있다."
   ]
  }
 ],
 "metadata": {
  "language_info": {
   "name": "python"
  }
 },
 "nbformat": 4,
 "nbformat_minor": 5
}
