{
 "cells": [
  {
   "cell_type": "markdown",
   "id": "832f95e1",
   "metadata": {},
   "source": [
    "### GAN(Generative Adversarial Networks)\n",
    "\n",
    "생성적 적대 신경망은 아이디어 자체로만으로도 매우 가치있는 모델로 평가 받고 있다. 실제 얼굴 변환, 음성 변조, 그림 스타일 변환, 사진 복원 등 다양한 기술로 응용이 되어 실제 적용되고 있다.\n",
    "\n",
    "GAN은 Generator(가짜 생성)와 Discriminator(진짜/가짜 구별)가 서로 경쟁하며 학습하는 구조이다. Generator는 Discriminator를 속이려 하고, Discriminator는 이를 구별하려고 하면서 둘 다 점점 강해진다. 결국 Generator는 진짜처럼 보이는 데이터를 만들 수 있게 된다."
   ]
  },
  {
   "cell_type": "markdown",
   "id": "207fe69d",
   "metadata": {},
   "source": [
    "#### 1.라이브러리 및 데이터 불러오기"
   ]
  },
  {
   "cell_type": "code",
   "execution_count": 1,
   "id": "ae0e2ae3",
   "metadata": {},
   "outputs": [],
   "source": [
    "import torch\n",
    "import torch.nn as nn\n",
    "import torch.optim as optim\n",
    "from torch.autograd.variable import Variable\n",
    "from torchvision import transforms\n",
    "from torchvision.datasets import FashionMNIST\n",
    "from torchvision.utils import make_grid\n",
    "from torch.utils.data import DataLoader\n",
    "import imageio\n",
    "from tqdm import trange\n",
    "\n",
    "import numpy as np\n",
    "from matplotlib import pyplot as plt"
   ]
  },
  {
   "cell_type": "code",
   "execution_count": 2,
   "id": "b5fae113",
   "metadata": {},
   "outputs": [
    {
     "name": "stderr",
     "output_type": "stream",
     "text": [
      "100%|██████████| 26.4M/26.4M [00:13<00:00, 2.02MB/s]\n",
      "100%|██████████| 29.5k/29.5k [00:00<00:00, 88.4kB/s]\n",
      "100%|██████████| 4.42M/4.42M [00:02<00:00, 1.95MB/s]\n",
      "100%|██████████| 5.15k/5.15k [00:00<00:00, 5.09MB/s]"
     ]
    },
    {
     "name": "stdout",
     "output_type": "stream",
     "text": [
      "mps is available\n"
     ]
    },
    {
     "name": "stderr",
     "output_type": "stream",
     "text": [
      "\n"
     ]
    }
   ],
   "source": [
    "# FashionMNIST : 'T-Shirt','Trouser','Pullover','Dress','Coat','Sandal','Shirt','Sneaker','Bag','Ankle Boot'\n",
    "\n",
    "# 전처리 작업을 묶어서 적용할 수 있게 한다.\n",
    "transform = transforms.Compose([\n",
    "                transforms.ToTensor(),  # 픽셀값 범위 [0, 255] -> [0.0, 1.0] 사이로 정규화(normalize) 해준다.\n",
    "                transforms.Normalize((0.5,),(0.5,)) # [0,1]로 변환된 데이터를 [-1,1] 범위로 바꿔준다.\n",
    "                ])\n",
    "\n",
    "to_image = transforms.ToPILImage() # Tensor data -> PIL 이미지\n",
    "trainset = FashionMNIST(root='./data', train=True, download=True, transform=transform)\n",
    "trainloader = DataLoader(trainset, batch_size=100, shuffle=True)\n",
    "\n",
    "device = torch.device(\"mps\" if torch.backends.mps.is_available() else \"cpu\")\n",
    "\n",
    "print(f'{device} is available')\n"
   ]
  },
  {
   "cell_type": "markdown",
   "id": "7fcf7e33",
   "metadata": {},
   "source": [
    "#### 2. 모델 정의"
   ]
  },
  {
   "cell_type": "code",
   "execution_count": 3,
   "id": "649174aa",
   "metadata": {},
   "outputs": [],
   "source": [
    "class Generator(nn.Module):\n",
    "    def __init__(self):\n",
    "        super(Generator, self).__init__()\n",
    "\n",
    "        self.n_features = 128 # 입력 노이즈 차원\n",
    "        self.n_out = 784 # 출력은 28x28 이미지를 1차원으로 펼친 784개의 숫자\n",
    "        self.linear = nn.Sequential(\n",
    "                    nn.Linear(self.n_features, 256),\n",
    "                    nn.LeakyReLU(0.2), # 약간 기울기를 줘서 죽지 않게 한다.\n",
    "                    nn.Linear(256, 512),\n",
    "                    nn.LeakyReLU(0.2),\n",
    "                    nn.Linear(512, 1024),\n",
    "                    nn.LeakyReLU(0.2),\n",
    "                    nn.Linear(1024, self.n_out),\n",
    "                    nn.Tanh() # 출력값을 [-1, 1] 범위로 정규화\n",
    "                    )\n",
    "    \n",
    "    # x를 Linear 통과 -> 최종적으로 (배치 크기,1채널, 28, 28) 이미지 형태로 Reshape\n",
    "    def forward(self, x):\n",
    "        x = self.linear(x)\n",
    "        x = x.view(-1, 1, 28, 28)\n",
    "\n",
    "        return x\n",
    "\n",
    "class Discriminator(nn.Module):\n",
    "    def __init__(self):\n",
    "        super(Discriminator, self).__init__()\n",
    "\n",
    "        self.n_in = 784 # 입력은 펼쳐진 28x28 이미지 (784차원)\n",
    "        self.n_out = 1 # 출력은 진짜/가짜 판별을 위한 1개의 값\n",
    "        self.linear = nn.Sequential(\n",
    "                    nn.Linear(self.n_in, 1024),\n",
    "                    nn.LeakyReLU(0.2),\n",
    "                    nn.Dropout(0.3),\n",
    "                    nn.Linear(1024, 512),\n",
    "                    nn.LeakyReLU(0.2),\n",
    "                    nn.Dropout(0.3), # 오버 피팅 방지\n",
    "                    nn.Linear(512, 256),\n",
    "                    nn.LeakyReLU(0.2),\n",
    "                    nn.Dropout(0.3),\n",
    "                    nn.Linear(256, self.n_out),\n",
    "                    nn.Sigmoid()\n",
    "                    )\n",
    "\n",
    "    # 입력 이미지를 784로 펼치고 -> linear 통과 -> 진짜/가짜 확률 출력\n",
    "    def forward(self, x):\n",
    "        x = x.view(-1, 784)\n",
    "        x = self.linear(x)\n",
    "\n",
    "        return x"
   ]
  },
  {
   "cell_type": "markdown",
   "id": "9507c4f6",
   "metadata": {},
   "source": [
    "#### 3. 손실함수 및 최적화 방법 정의"
   ]
  },
  {
   "cell_type": "code",
   "execution_count": 4,
   "id": "1ac3a15d",
   "metadata": {},
   "outputs": [],
   "source": [
    "# generator 와 discriminator 인스턴스를 생성하고 mps로 보낸다.\n",
    "generator = Generator().to(device)\n",
    "discriminator = Discriminator().to(device)\n",
    "\n",
    "pretrained =  False\n",
    "\n",
    "if pretrained == True:\n",
    "    discriminator.load_state_dict(torch.load('./models/fmnist_disc.pth'))\n",
    "    generator.load_state_dict(torch.load('./models/fmnist_gner.pth'))\n",
    "\n",
    "# 최적화기 설정\n",
    "g_optim = optim.Adam(generator.parameters(), lr=2e-4)\n",
    "d_optim = optim.Adam(discriminator.parameters(), lr=2e-4)\n",
    "\n",
    "# 학습용 기록용 리스트 초기화\n",
    "g_losses = []\n",
    "d_losses = []\n",
    "images = []\n",
    "\n",
    "# 손실 함수 설정\n",
    "# Binary Cross Entropy Loss 설정 (진짜/가짜를 이진 분류하는 문제에 적합)\n",
    "criterion = nn.BCELoss()\n",
    "\n",
    "# 랜덤 노이즈 생성 함수 (Generator 입력용)\n",
    "def noise(n, n_features=128):\n",
    "    return Variable(torch.randn(n, n_features)).to(device)\n",
    "\n",
    "# 배치 크기만큼 각각 진짜(1)인지 가짜(0)인지 판단해야 한다.\n",
    "# \"진짜\" 데이터용 정답 라벨 1 생성 함수 -> 사이즈만큼 1로 채운 (size, 1) 크기의 텐서를 생성\n",
    "def label_ones(size):\n",
    "    data = Variable(torch.ones(size, 1))\n",
    "\n",
    "    return data.to(device)\n",
    "\n",
    "# \"가짜\" 데이터용 정답 라벨 0 생성 함수 -> 사이즈만큼 0로 채운 (size, 1) 크기의 텐서를 생성\n",
    "def label_zeros(size):\n",
    "    data = Variable(torch.zeros(size, 1))\n",
    "\n",
    "    return data.to(device)"
   ]
  },
  {
   "cell_type": "markdown",
   "id": "824c83bb",
   "metadata": {},
   "source": [
    "#### 4. 학습 전략 정의"
   ]
  },
  {
   "cell_type": "code",
   "execution_count": null,
   "id": "a0cb8e9b",
   "metadata": {},
   "outputs": [],
   "source": [
    "def train_discriminator(optimizer, real_data, fake_data):\n",
    "    n = real_data.size(0)\n",
    "\n",
    "    optimizer.zero_grad()\n",
    "    \n",
    "    prediction_real = discriminator(real_data)\n",
    "    d_loss = criterion(prediction_real, label_ones(n))\n",
    "\n",
    "    prediction_fake = discriminator(fake_data)\n",
    "    g_loss = criterion(prediction_fake, label_zeros(n))\n",
    "\n",
    "    loss = d_loss + g_loss # loss가 0에 가까워야 진짜 데이터와 가자 데이터 둘다를 잘 맞추는 것이므로 0에 가까울 수록 좋다.\n",
    "\n",
    "    loss.backward()\n",
    "    optimizer.step()\n",
    "    \n",
    "    return loss.item()\n",
    "\n",
    "def train_generator(optimizer, fake_data):\n",
    "    n = fake_data.size(0)\n",
    "    optimizer.zero_grad()\n",
    "    \n",
    "    prediction = discriminator(fake_data)\n",
    "    loss = criterion(prediction, label_ones(n))\n",
    "    \n",
    "    loss.backward()\n",
    "    optimizer.step()\n",
    "    \n",
    "    return loss.item()"
   ]
  },
  {
   "cell_type": "markdown",
   "id": "959a72a3",
   "metadata": {},
   "source": [
    "#### 학습하기"
   ]
  },
  {
   "cell_type": "code",
   "execution_count": null,
   "id": "8a0741ba",
   "metadata": {},
   "outputs": [
    {
     "name": "stderr",
     "output_type": "stream",
     "text": [
      "100%|██████████| 101/101 [24:17<00:00, 14.44s/it, epoch=101, g_loss=1.09, d_loss=1.15]\n"
     ]
    }
   ],
   "source": [
    "num_epochs = 101\n",
    "pbar = trange(num_epochs)\n",
    "test_noise = noise(64) # 64개의 랜덤한 숫자 묶음, Generator가 얼마나 좋아졌는지 비교할 대상\n",
    "\n",
    "l = len(trainloader) # 몇 번의 배치가 필요한지 저장\n",
    "\n",
    "for epoch in pbar:\n",
    "    g_loss = 0.0\n",
    "    d_loss = 0.0\n",
    "\n",
    "    for data in trainloader:\n",
    "        imgs, _ = data\n",
    "        n = len(imgs)\n",
    "        \n",
    "        fake_data = generator(noise(n)).detach() # detach()를 안하면 train_discriminator에서 역전파할때 generator도 훈력시켜 버린다.\n",
    "        real_data = imgs.to(device)\n",
    "        d_loss += train_discriminator(d_optim, real_data, fake_data)\n",
    "        \n",
    "        fake_data = generator(noise(n))\n",
    "        g_loss += train_generator(g_optim, fake_data)\n",
    "\n",
    "    img = generator(test_noise).cpu().detach()\n",
    "    img = make_grid(img)\n",
    "    images.append(img)\n",
    "    g_losses.append(g_loss/l)\n",
    "    d_losses.append(d_loss/l)\n",
    "\n",
    "    pbar.set_postfix({'epoch': epoch+1, 'g_loss' : g_loss/l, 'd_loss' : d_loss/l}) \n",
    "\n",
    "\n",
    "torch.save(discriminator.state_dict(), './models/fmnist_disc.pth') \n",
    "torch.save(generator.state_dict(), './models/fmnist_gner.pth')   \n"
   ]
  },
  {
   "cell_type": "markdown",
   "id": "77f1b2c9",
   "metadata": {},
   "source": [
    "#### 이미지 결과 및 손실함수 그래프 생성"
   ]
  },
  {
   "cell_type": "code",
   "execution_count": 8,
   "id": "b6ebe758",
   "metadata": {},
   "outputs": [],
   "source": [
    "imgs = [np.array(to_image(i)) for i in images]\n",
    "imageio.mimsave('./results/fashion_items_vnlgan.gif', imgs)"
   ]
  },
  {
   "cell_type": "code",
   "execution_count": 10,
   "id": "844bcb27",
   "metadata": {},
   "outputs": [
    {
     "data": {
      "image/png": "[encoded data removed]",
      "text/plain": [
       "<Figure size 2000x1000 with 1 Axes>"
      ]
     },
     "metadata": {},
     "output_type": "display_data"
    }
   ],
   "source": [
    "plt.figure(figsize=(20,10))\n",
    "plt.plot(g_losses)\n",
    "plt.plot(d_losses)\n",
    "plt.legend(['Generator Loss','Discriminator Loss'])\n",
    "plt.title('Loss')\n",
    "plt.savefig('./results/vnlgan_loss.png')"
   ]
  }
 ],
 "metadata": {
  "kernelspec": {
   "display_name": "base",
   "language": "python",
   "name": "python3"
  },
  "language_info": {
   "codemirror_mode": {
    "name": "ipython",
    "version": 3
   },
   "file_extension": ".py",
   "mimetype": "text/x-python",
   "name": "python",
   "nbconvert_exporter": "python",
   "pygments_lexer": "ipython3",
   "version": "3.12.7"
  }
 },
 "nbformat": 4,
 "nbformat_minor": 5
}
