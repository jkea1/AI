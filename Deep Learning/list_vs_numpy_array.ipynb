{
 "cells": [
  {
   "cell_type": "markdown",
   "id": "0e774e7b",
   "metadata": {},
   "source": [
    "## 리스트(list) vs 넘파이 배열(numpy array)\n",
    "\n",
    "파이썬에서는 데이터를 다룰 때 `list`(리스트)와 `numpy array`(넘파이 배열)를 많이 사용합니다.  \n",
    "비슷해 보이지만 용도와 성능, 기능 면에서 중요한 차이가 있습니다. 아래에서 차이를 자세히 비교해봅시다.\n",
    "\n",
    "---\n",
    "\n",
    "### 1. 기본 개념\n",
    "\n",
    "| 구분 | 리스트 (`list`) | 넘파이 배열 (`numpy array`) |\n",
    "|------|-----------------|----------------------------|\n",
    "| 라이브러리 | 파이썬 기본 자료형 | `numpy` 라이브러리 사용 |\n",
    "| 구조 | 다양한 자료형 가능 | 동일한 자료형만 가능 (일반적으로 숫자) |\n",
    "\n",
    "---\n",
    "\n",
    "### 2. 간단한 예시\n",
    "\n",
    "```python\n",
    "# 파이썬 리스트\n",
    "a = [1, 2, 3]\n",
    "\n",
    "# 넘파이 배열\n",
    "import numpy as np\n",
    "b = np.array([1, 2, 3])\n",
    "```\n",
    "\n",
    "### 3. 주요 차이점\n",
    "넘파이 배열은 수학 연산을 배열 전체에 **한 번에** 적용할 수 있어 매우 효율적이다.\n",
    "\n",
    "(1) 연산 방식"
   ]
  },
  {
   "cell_type": "code",
   "execution_count": null,
   "id": "f8df898b",
   "metadata": {},
   "outputs": [
    {
     "name": "stdout",
     "output_type": "stream",
     "text": [
      "[1, 2, 3, 1, 2, 3]\n",
      "[2 4 6]\n"
     ]
    }
   ],
   "source": [
    "# (1) 연산 방식이 다르다.\n",
    "import numpy as np\n",
    "\n",
    "a = [1, 2, 3]\n",
    "b = np.array([1, 2, 3])\n",
    "\n",
    "print(a * 2) # 리스트를 2번 반복한다.\n",
    "print(b * 2) # 배열 전체에 연산을 적용한다."
   ]
  },
  {
   "cell_type": "markdown",
   "id": "a9ba370f",
   "metadata": {},
   "source": [
    "(2) 성능 비교\n",
    "\n",
    "넘파이 배열은 내부적으로 C로 구현되어 있어 연산 속도가 훨씬 빠릅니다."
   ]
  },
  {
   "cell_type": "code",
   "execution_count": 3,
   "id": "c7e92d7e",
   "metadata": {},
   "outputs": [
    {
     "name": "stdout",
     "output_type": "stream",
     "text": [
      "리스트 연산 시간:  0.021294116973876953\n",
      "넘파이 연산 시간: 0.0016379356384277344\n",
      "넘파이 연산 시간이 리스트 연산 시간보다 약 13.00배 빠릅니다.\n"
     ]
    }
   ],
   "source": [
    "import numpy as np\n",
    "import time\n",
    "\n",
    "size = 1_000_000\n",
    "list1 = list(range(size))\n",
    "array1 = np.array(range(size))\n",
    "\n",
    "start = time.time()\n",
    "list_result = [x + 1 for x in list1]\n",
    "list_time = time.time() - start\n",
    "print(\"리스트 연산 시간: \", list_time)\n",
    "\n",
    "start = time.time()\n",
    "array_result = array1 + 1\n",
    "numpy_time = time.time() - start\n",
    "\n",
    "print(\"넘파이 연산 시간:\", numpy_time)\n",
    "print(f\"넘파이 연산 시간이 리스트 연산 시간보다 약 {list_time / numpy_time:.2f}배 빠릅니다.\")"
   ]
  },
  {
   "cell_type": "markdown",
   "id": "1f8a430e",
   "metadata": {},
   "source": [
    "(3) 다차원 배열 지원\n",
    "\n",
    "넘파이는 행렬, 벡터, 텐서처럼 다차원 배열을 자연스럽게 지원한다."
   ]
  },
  {
   "cell_type": "code",
   "execution_count": 5,
   "id": "80c3486f",
   "metadata": {},
   "outputs": [],
   "source": [
    "# 리스트\n",
    "list_2d = [[1, 2], [3, 4]]\n",
    "\n",
    "# 넘파이 배열\n",
    "np_2d = np.array([[1, 2], [3, 4]])"
   ]
  },
  {
   "cell_type": "markdown",
   "id": "9df58771",
   "metadata": {},
   "source": [
    "(4) 유용한 기능들\n",
    "\n",
    "넘파이에는 수학, 통계, 선형대수 등 다양한 기능이 내장돼 있다."
   ]
  },
  {
   "cell_type": "code",
   "execution_count": 6,
   "id": "14d7a697",
   "metadata": {},
   "outputs": [
    {
     "name": "stdout",
     "output_type": "stream",
     "text": [
      "3.0\n",
      "1.4142135623730951\n",
      "[[1]\n",
      " [2]\n",
      " [3]\n",
      " [4]\n",
      " [5]]\n"
     ]
    }
   ],
   "source": [
    "np_array = np.array([1, 2, 3, 4, 5])\n",
    "print(np.mean(np_array)) # 평균\n",
    "print(np.std(np_array)) # 표준편차\n",
    "print(np_array.reshape(5, 1)) # 모양 바꾸기"
   ]
  },
  {
   "cell_type": "markdown",
   "id": "86e4f72f",
   "metadata": {},
   "source": [
    "#### 정리표\n",
    "\n",
    "| 비교 항목         | 리스트 (`list`)              | 넘파이 배열 (`np.array`)        |\n",
    "|------------------|------------------------------|----------------------------------|\n",
    "| 기본 제공 여부    | 파이썬 내장                  | `numpy` 설치 필요               |\n",
    "| 데이터 타입       | 여러 타입 가능               | 하나의 타입 권장                |\n",
    "| 연산 속도         | 느림                         | 빠름                            |\n",
    "| 수학 연산 지원    | 거의 없음                    | 매우 강력함                     |\n",
    "| 다차원 배열        | 직접 구현해야 함              | 자연스럽게 지원됨              |\n",
    "| 주요 용도         | 일반적인 데이터 저장          | 수치 계산, 데이터 분석, 머신러닝 |"
   ]
  },
  {
   "cell_type": "markdown",
   "id": "2176e100",
   "metadata": {},
   "source": [
    "### 결론\n",
    "* 일반적인 데이터 저장: 리스트가 적절함\n",
    "* 수치 계산, 머신러닝, 데이터 분석: 넘파이 배열이 훨씬 효율적임"
   ]
  }
 ],
 "metadata": {
  "kernelspec": {
   "display_name": "base",
   "language": "python",
   "name": "python3"
  },
  "language_info": {
   "codemirror_mode": {
    "name": "ipython",
    "version": 3
   },
   "file_extension": ".py",
   "mimetype": "text/x-python",
   "name": "python",
   "nbconvert_exporter": "python",
   "pygments_lexer": "ipython3",
   "version": "3.12.7"
  }
 },
 "nbformat": 4,
 "nbformat_minor": 5
}
